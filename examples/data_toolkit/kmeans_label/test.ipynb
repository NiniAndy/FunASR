{
 "cells": [
  {
   "cell_type": "code",
   "id": "initial_id",
   "metadata": {
    "collapsed": true,
    "ExecuteTime": {
     "end_time": "2024-08-01T07:50:03.008175Z",
     "start_time": "2024-08-01T07:50:02.994198Z"
    }
   },
   "source": "path = \"/ssd/zhuang/dataset/data_KeSpeech/KeSpeech/Audio/1005697/phase1/1005697_032baa35.wav\"",
   "outputs": [],
   "execution_count": 1
  },
  {
   "metadata": {
    "ExecuteTime": {
     "end_time": "2024-08-01T07:53:00.370541Z",
     "start_time": "2024-08-01T07:53:00.351882Z"
    }
   },
   "cell_type": "code",
   "source": [
    "import os\n",
    "\n",
    "import fairseq\n",
    "import numpy as np\n",
    "import torch\n",
    "import tqdm\n",
    "import yaml\n",
    "import json\n",
    "from npy_append_array import NpyAppendArray\n",
    "\n",
    "from mfcc_extractor import load_audio\n",
    "\n",
    "# 读取配置文件\n",
    "with open(\"config.yaml\", \"r\") as f:\n",
    "    config = yaml.safe_load(f)\n",
    "\n",
    "\n",
    "class Reader(object):\n",
    "    def __init__(self, ckpt_path, layer, max_chunk=1600000):\n",
    "        model, cfg, task = fairseq.checkpoint_utils.load_model_ensemble_and_task([ckpt_path])\n",
    "        self.model = model[0].eval().cuda()\n",
    "        self.task = task\n",
    "        self.layer = layer\n",
    "        self.max_chunk = max_chunk\n",
    "\n",
    "    def get_feats(self, path):\n",
    "        waveform, _ = load_audio(path)\n",
    "        feat = []\n",
    "        feat_chunk, _ = self.model.extract_features(source=waveform.cuda(),\n",
    "                                                    padding_mask=None,\n",
    "                                                    mask=False,\n",
    "                                                    output_layer=self.layer)\n",
    "        feat.append(feat_chunk)\n",
    "        return torch.cat(feat, 1).squeeze(0)\n",
    "\n",
    "\n",
    "\n",
    "\n",
    "ckpt_path = config['KMEANS']['ckpt_path']  # hubert的模型\n",
    "layer = config['KMEANS']['layer']  # 需要从第几层提取\n",
    "max_chunk = config['KMEANS']['max_chunk']  # 每次提取的最大长度\n",
    "\n",
    "# # 初始化reader\n",
    "# reader = Reader(ckpt_path, layer, max_chunk)\n",
    "# feat = reader.get_feats(path)\n"
   ],
   "id": "dbf3cf36bc0a86d6",
   "outputs": [],
   "execution_count": 4
  },
  {
   "metadata": {
    "ExecuteTime": {
     "end_time": "2024-08-01T07:53:11.191396Z",
     "start_time": "2024-08-01T07:53:11.176073Z"
    }
   },
   "cell_type": "code",
   "source": "ckpt_path",
   "id": "74ac7013818c280e",
   "outputs": [
    {
     "data": {
      "text/plain": [
       "'/data/NAS_PLUS/zhuang/CodeBase/008_simple_kmeans/save/hubert_base_ls960.pt'"
      ]
     },
     "execution_count": 5,
     "metadata": {},
     "output_type": "execute_result"
    }
   ],
   "execution_count": 5
  },
  {
   "metadata": {
    "ExecuteTime": {
     "end_time": "2024-08-01T07:53:15.801675Z",
     "start_time": "2024-08-01T07:53:15.791546Z"
    }
   },
   "cell_type": "code",
   "source": "layer",
   "id": "9de7f0b16e4749d6",
   "outputs": [
    {
     "data": {
      "text/plain": [
       "9"
      ]
     },
     "execution_count": 6,
     "metadata": {},
     "output_type": "execute_result"
    }
   ],
   "execution_count": 6
  },
  {
   "metadata": {
    "ExecuteTime": {
     "end_time": "2024-08-01T07:53:19.518014Z",
     "start_time": "2024-08-01T07:53:19.507854Z"
    }
   },
   "cell_type": "code",
   "source": "max_chunk",
   "id": "748172382710912a",
   "outputs": [
    {
     "data": {
      "text/plain": [
       "1600000"
      ]
     },
     "execution_count": 7,
     "metadata": {},
     "output_type": "execute_result"
    }
   ],
   "execution_count": 7
  },
  {
   "metadata": {
    "ExecuteTime": {
     "end_time": "2024-08-01T07:53:31.646370Z",
     "start_time": "2024-08-01T07:53:28.908568Z"
    }
   },
   "cell_type": "code",
   "source": "reader = Reader(ckpt_path, layer, max_chunk)",
   "id": "ade77ac960c94f2",
   "outputs": [
    {
     "name": "stderr",
     "output_type": "stream",
     "text": [
      "/tmp/ipykernel_2831143/729559370.py:1: UserWarning: \n",
      "'config' is validated against ConfigStore schema with the same name.\n",
      "This behavior is deprecated in Hydra 1.1 and will be removed in Hydra 1.2.\n",
      "See https://hydra.cc/docs/1.2/upgrades/1.0_to_1.1/automatic_schema_matching for migration instructions.\n",
      "  reader = Reader(ckpt_path, layer, max_chunk)\n",
      "2024-08-01 15:53:30 | INFO | fairseq.tasks.hubert_pretraining | current directory is /ssd/zhuang/code/FunASR/examples/data_toolkit/kmeans_label\n",
      "2024-08-01 15:53:30 | INFO | fairseq.tasks.hubert_pretraining | HubertPretrainingTask Config {'_name': 'hubert_pretraining', 'data': '/checkpoint/wnhsu/data/librispeech/960h/iter/250K_50hz_km100_mp0_65_v2', 'fine_tuning': False, 'labels': ['layer6.km500'], 'label_dir': None, 'label_rate': 50.0, 'sample_rate': 16000, 'normalize': False, 'enable_padding': False, 'max_keep_size': None, 'max_sample_size': 250000, 'min_sample_size': 32000, 'single_target': False, 'random_crop': True, 'pad_audio': False}\n",
      "2024-08-01 15:53:30 | INFO | fairseq.models.hubert.hubert | HubertModel Config: {'_name': 'hubert', 'label_rate': 50.0, 'extractor_mode': default, 'encoder_layers': 12, 'encoder_embed_dim': 768, 'encoder_ffn_embed_dim': 3072, 'encoder_attention_heads': 12, 'activation_fn': gelu, 'layer_type': transformer, 'dropout': 0.1, 'attention_dropout': 0.1, 'activation_dropout': 0.0, 'encoder_layerdrop': 0.05, 'dropout_input': 0.1, 'dropout_features': 0.1, 'final_dim': 256, 'untie_final_proj': False, 'layer_norm_first': False, 'conv_feature_layers': '[(512,10,5)] + [(512,3,2)] * 4 + [(512,2,2)] * 2', 'conv_bias': False, 'logit_temp': 0.1, 'target_glu': False, 'feature_grad_mult': 0.1, 'mask_length': 10, 'mask_prob': 0.8, 'mask_selection': static, 'mask_other': 0.0, 'no_mask_overlap': False, 'mask_min_space': 1, 'mask_channel_length': 10, 'mask_channel_prob': 0.0, 'mask_channel_selection': static, 'mask_channel_other': 0.0, 'no_mask_channel_overlap': False, 'mask_channel_min_space': 1, 'conv_pos': 128, 'conv_pos_groups': 16, 'latent_temp': [2.0, 0.5, 0.999995], 'skip_masked': False, 'skip_nomask': False, 'checkpoint_activations': False, 'required_seq_len_multiple': 2, 'depthwise_conv_kernel_size': 31, 'attn_type': '', 'pos_enc_type': 'abs', 'fp16': True}\n"
     ]
    }
   ],
   "execution_count": 8
  },
  {
   "metadata": {
    "ExecuteTime": {
     "end_time": "2024-08-01T07:54:03.018548Z",
     "start_time": "2024-08-01T07:54:02.961726Z"
    }
   },
   "cell_type": "code",
   "source": "reader.get_feats(path).size()",
   "id": "3b1a01869ba8225f",
   "outputs": [
    {
     "data": {
      "text/plain": [
       "torch.Size([220, 768])"
      ]
     },
     "execution_count": 10,
     "metadata": {},
     "output_type": "execute_result"
    }
   ],
   "execution_count": 10
  },
  {
   "metadata": {
    "ExecuteTime": {
     "end_time": "2024-08-01T07:55:01.914177Z",
     "start_time": "2024-08-01T07:55:01.889838Z"
    }
   },
   "cell_type": "code",
   "source": [
    "import torchaudio\n",
    "audio  , _ = torchaudio.load(path)\n",
    "print(audio.size())"
   ],
   "id": "80e20c974477dc88",
   "outputs": [
    {
     "name": "stdout",
     "output_type": "stream",
     "text": [
      "torch.Size([1, 70698])\n"
     ]
    }
   ],
   "execution_count": 11
  },
  {
   "metadata": {
    "ExecuteTime": {
     "end_time": "2024-08-01T07:56:40.510865Z",
     "start_time": "2024-08-01T07:56:40.503244Z"
    }
   },
   "cell_type": "code",
   "source": "path= \"/ssd/zhuang/dataset/data_KeSpeech/KeSpeech/Audio/1006957/phase1/1006957_a1f1dcc7.wav\"",
   "id": "7a00a9236b6ddc91",
   "outputs": [],
   "execution_count": 14
  },
  {
   "metadata": {
    "ExecuteTime": {
     "end_time": "2024-08-01T07:56:41.152997Z",
     "start_time": "2024-08-01T07:56:41.096193Z"
    }
   },
   "cell_type": "code",
   "source": "reader.get_feats(path).size()",
   "id": "3875eb624f261a26",
   "outputs": [
    {
     "data": {
      "text/plain": [
       "torch.Size([220, 768])"
      ]
     },
     "execution_count": 15,
     "metadata": {},
     "output_type": "execute_result"
    }
   ],
   "execution_count": 15
  },
  {
   "metadata": {
    "ExecuteTime": {
     "end_time": "2024-08-01T07:56:47.495678Z",
     "start_time": "2024-08-01T07:56:47.470163Z"
    }
   },
   "cell_type": "code",
   "source": [
    "import torchaudio\n",
    "audio  , _ = torchaudio.load(path)\n",
    "print(audio.size())"
   ],
   "id": "3dd593234a02e8d0",
   "outputs": [
    {
     "name": "stdout",
     "output_type": "stream",
     "text": [
      "torch.Size([1, 70698])\n"
     ]
    }
   ],
   "execution_count": 16
  },
  {
   "metadata": {
    "ExecuteTime": {
     "end_time": "2024-08-02T03:16:34.444585Z",
     "start_time": "2024-08-02T03:16:34.437347Z"
    }
   },
   "cell_type": "code",
   "source": [
    "import os\n",
    "root =\"/ssd/zhuang/code/FunASR/examples/kespeech/DATA/data3\""
   ],
   "id": "605c8ae496e00f5d",
   "outputs": [],
   "execution_count": 26
  },
  {
   "metadata": {
    "ExecuteTime": {
     "end_time": "2024-08-02T03:17:13.967524Z",
     "start_time": "2024-08-02T03:16:35.669953Z"
    }
   },
   "cell_type": "code",
   "source": [
    "for root, dirs, files in os.walk(root):\n",
    "    for file in files:\n",
    "        if \"hubert\" in file:\n",
    "            print (os.path.join(root, file) ,\"is removing\")\n",
    "            os.remove(os.path.join(root, file))\n",
    "        if \"kmeans\" in file:\n",
    "            print (os.path.join(root, file), \"is removing\")\n",
    "            os.remove(os.path.join(root, file))\n"
   ],
   "id": "24843db09b26fd73",
   "outputs": [
    {
     "name": "stdout",
     "output_type": "stream",
     "text": [
      "/ssd/zhuang/code/FunASR/examples/kespeech/DATA/data3/AS/test/kmeans_label is removing\n",
      "/ssd/zhuang/code/FunASR/examples/kespeech/DATA/data3/AS/test/hubert_9layer.npy is removing\n",
      "/ssd/zhuang/code/FunASR/examples/kespeech/DATA/data3/AS/test/hubert_9layer.len is removing\n",
      "/ssd/zhuang/code/FunASR/examples/kespeech/DATA/data3/AS/dev/kmeans_label is removing\n",
      "/ssd/zhuang/code/FunASR/examples/kespeech/DATA/data3/AS/dev/hubert_9layer.npy is removing\n",
      "/ssd/zhuang/code/FunASR/examples/kespeech/DATA/data3/AS/dev/hubert_6layer.npy is removing\n",
      "/ssd/zhuang/code/FunASR/examples/kespeech/DATA/data3/AS/dev/hubert_9layer.len is removing\n",
      "/ssd/zhuang/code/FunASR/examples/kespeech/DATA/data3/AS/dev/hubert_6layer.len is removing\n",
      "/ssd/zhuang/code/FunASR/examples/kespeech/DATA/data3/AS/train/kmeans_label is removing\n",
      "/ssd/zhuang/code/FunASR/examples/kespeech/DATA/data3/AS/train/hubert_9layer.npy is removing\n",
      "/ssd/zhuang/code/FunASR/examples/kespeech/DATA/data3/AS/train/hubert_9layer.len is removing\n",
      "/ssd/zhuang/code/FunASR/examples/kespeech/DATA/data3/WD/test/kmeans_label is removing\n",
      "/ssd/zhuang/code/FunASR/examples/kespeech/DATA/data3/WD/test/hubert_9layer.npy is removing\n",
      "/ssd/zhuang/code/FunASR/examples/kespeech/DATA/data3/WD/test/hubert_9layer.len is removing\n",
      "/ssd/zhuang/code/FunASR/examples/kespeech/DATA/data3/WD/dev/kmeans_label is removing\n",
      "/ssd/zhuang/code/FunASR/examples/kespeech/DATA/data3/WD/dev/hubert_9layer.npy is removing\n",
      "/ssd/zhuang/code/FunASR/examples/kespeech/DATA/data3/WD/dev/hubert_9layer.len is removing\n",
      "/ssd/zhuang/code/FunASR/examples/kespeech/DATA/data3/WD/train/kmeans_label is removing\n",
      "/ssd/zhuang/code/FunASR/examples/kespeech/DATA/data3/WD/train/hubert_9layer.npy is removing\n",
      "/ssd/zhuang/code/FunASR/examples/kespeech/DATA/data3/WD/train/hubert_9layer.len is removing\n",
      "/ssd/zhuang/code/FunASR/examples/kespeech/DATA/data3/ES/Jiang-Huai/test/kmeans_label is removing\n",
      "/ssd/zhuang/code/FunASR/examples/kespeech/DATA/data3/ES/Jiang-Huai/test/hubert_9layer.npy is removing\n",
      "/ssd/zhuang/code/FunASR/examples/kespeech/DATA/data3/ES/Jiang-Huai/test/hubert_9layer.len is removing\n",
      "/ssd/zhuang/code/FunASR/examples/kespeech/DATA/data3/ES/Jiang-Huai/dev/kmeans_label is removing\n",
      "/ssd/zhuang/code/FunASR/examples/kespeech/DATA/data3/ES/Jiang-Huai/dev/hubert_9layer.npy is removing\n",
      "/ssd/zhuang/code/FunASR/examples/kespeech/DATA/data3/ES/Jiang-Huai/dev/hubert_9layer.len is removing\n",
      "/ssd/zhuang/code/FunASR/examples/kespeech/DATA/data3/ES/Jiang-Huai/train/kmeans_label is removing\n",
      "/ssd/zhuang/code/FunASR/examples/kespeech/DATA/data3/ES/Jiang-Huai/train/hubert_9layer.npy is removing\n",
      "/ssd/zhuang/code/FunASR/examples/kespeech/DATA/data3/ES/Jiang-Huai/train/hubert_9layer.len is removing\n",
      "/ssd/zhuang/code/FunASR/examples/kespeech/DATA/data3/ES/Lan-Yin/test/kmeans_label is removing\n",
      "/ssd/zhuang/code/FunASR/examples/kespeech/DATA/data3/ES/Lan-Yin/test/hubert_9layer.npy is removing\n",
      "/ssd/zhuang/code/FunASR/examples/kespeech/DATA/data3/ES/Lan-Yin/test/hubert_9layer.len is removing\n",
      "/ssd/zhuang/code/FunASR/examples/kespeech/DATA/data3/ES/Lan-Yin/dev/kmeans_label is removing\n",
      "/ssd/zhuang/code/FunASR/examples/kespeech/DATA/data3/ES/Lan-Yin/dev/hubert_9layer.npy is removing\n",
      "/ssd/zhuang/code/FunASR/examples/kespeech/DATA/data3/ES/Lan-Yin/dev/hubert_9layer.len is removing\n",
      "/ssd/zhuang/code/FunASR/examples/kespeech/DATA/data3/ES/Lan-Yin/train/kmeans_label is removing\n",
      "/ssd/zhuang/code/FunASR/examples/kespeech/DATA/data3/ES/Lan-Yin/train/hubert_9layer.npy is removing\n",
      "/ssd/zhuang/code/FunASR/examples/kespeech/DATA/data3/ES/Lan-Yin/train/hubert_9layer.len is removing\n",
      "/ssd/zhuang/code/FunASR/examples/kespeech/DATA/data3/ES/Northeastern/test/kmeans_label is removing\n",
      "/ssd/zhuang/code/FunASR/examples/kespeech/DATA/data3/ES/Northeastern/test/hubert_9layer.npy is removing\n",
      "/ssd/zhuang/code/FunASR/examples/kespeech/DATA/data3/ES/Northeastern/test/hubert_9layer.len is removing\n",
      "/ssd/zhuang/code/FunASR/examples/kespeech/DATA/data3/ES/Northeastern/dev/kmeans_label is removing\n",
      "/ssd/zhuang/code/FunASR/examples/kespeech/DATA/data3/ES/Northeastern/dev/hubert_9layer.npy is removing\n",
      "/ssd/zhuang/code/FunASR/examples/kespeech/DATA/data3/ES/Northeastern/dev/hubert_9layer.len is removing\n",
      "/ssd/zhuang/code/FunASR/examples/kespeech/DATA/data3/ES/Northeastern/train/kmeans_label is removing\n",
      "/ssd/zhuang/code/FunASR/examples/kespeech/DATA/data3/ES/Northeastern/train/hubert_9layer.npy is removing\n",
      "/ssd/zhuang/code/FunASR/examples/kespeech/DATA/data3/ES/Northeastern/train/hubert_9layer.len is removing\n",
      "/ssd/zhuang/code/FunASR/examples/kespeech/DATA/data3/ES/Southwestern/test/kmeans_label is removing\n",
      "/ssd/zhuang/code/FunASR/examples/kespeech/DATA/data3/ES/Southwestern/test/hubert_9layer.npy is removing\n",
      "/ssd/zhuang/code/FunASR/examples/kespeech/DATA/data3/ES/Southwestern/test/hubert_9layer.len is removing\n",
      "/ssd/zhuang/code/FunASR/examples/kespeech/DATA/data3/ES/Southwestern/dev/kmeans_label is removing\n",
      "/ssd/zhuang/code/FunASR/examples/kespeech/DATA/data3/ES/Southwestern/dev/hubert_9layer.npy is removing\n",
      "/ssd/zhuang/code/FunASR/examples/kespeech/DATA/data3/ES/Southwestern/dev/hubert_9layer.len is removing\n",
      "/ssd/zhuang/code/FunASR/examples/kespeech/DATA/data3/ES/Southwestern/train/kmeans_label is removing\n",
      "/ssd/zhuang/code/FunASR/examples/kespeech/DATA/data3/ES/Southwestern/train/hubert_9layer.npy is removing\n",
      "/ssd/zhuang/code/FunASR/examples/kespeech/DATA/data3/ES/Southwestern/train/hubert_9layer.len is removing\n",
      "/ssd/zhuang/code/FunASR/examples/kespeech/DATA/data3/ES/Ji-Lu/test/kmeans_label is removing\n",
      "/ssd/zhuang/code/FunASR/examples/kespeech/DATA/data3/ES/Ji-Lu/test/hubert_9layer.npy is removing\n",
      "/ssd/zhuang/code/FunASR/examples/kespeech/DATA/data3/ES/Ji-Lu/test/hubert_9layer.len is removing\n",
      "/ssd/zhuang/code/FunASR/examples/kespeech/DATA/data3/ES/Ji-Lu/dev/kmeans_label is removing\n",
      "/ssd/zhuang/code/FunASR/examples/kespeech/DATA/data3/ES/Ji-Lu/dev/hubert_9layer.npy is removing\n",
      "/ssd/zhuang/code/FunASR/examples/kespeech/DATA/data3/ES/Ji-Lu/dev/hubert_9layer.len is removing\n",
      "/ssd/zhuang/code/FunASR/examples/kespeech/DATA/data3/ES/Ji-Lu/train/kmeans_label is removing\n",
      "/ssd/zhuang/code/FunASR/examples/kespeech/DATA/data3/ES/Ji-Lu/train/hubert_9layer.npy is removing\n",
      "/ssd/zhuang/code/FunASR/examples/kespeech/DATA/data3/ES/Ji-Lu/train/hubert_9layer.len is removing\n",
      "/ssd/zhuang/code/FunASR/examples/kespeech/DATA/data3/ES/Zhongyuan/test/kmeans_label is removing\n",
      "/ssd/zhuang/code/FunASR/examples/kespeech/DATA/data3/ES/Zhongyuan/test/hubert_9layer.npy is removing\n",
      "/ssd/zhuang/code/FunASR/examples/kespeech/DATA/data3/ES/Zhongyuan/test/hubert_9layer.len is removing\n",
      "/ssd/zhuang/code/FunASR/examples/kespeech/DATA/data3/ES/Zhongyuan/dev/kmeans_label is removing\n",
      "/ssd/zhuang/code/FunASR/examples/kespeech/DATA/data3/ES/Zhongyuan/dev/hubert_9layer.npy is removing\n",
      "/ssd/zhuang/code/FunASR/examples/kespeech/DATA/data3/ES/Zhongyuan/dev/hubert_9layer.len is removing\n",
      "/ssd/zhuang/code/FunASR/examples/kespeech/DATA/data3/ES/Zhongyuan/train/kmeans_label is removing\n",
      "/ssd/zhuang/code/FunASR/examples/kespeech/DATA/data3/ES/Zhongyuan/train/hubert_9layer.npy is removing\n",
      "/ssd/zhuang/code/FunASR/examples/kespeech/DATA/data3/ES/Zhongyuan/train/hubert_9layer.len is removing\n",
      "/ssd/zhuang/code/FunASR/examples/kespeech/DATA/data3/ES/Beijing/test/kmeans_label is removing\n",
      "/ssd/zhuang/code/FunASR/examples/kespeech/DATA/data3/ES/Beijing/test/hubert_9layer.npy is removing\n",
      "/ssd/zhuang/code/FunASR/examples/kespeech/DATA/data3/ES/Beijing/test/hubert_9layer.len is removing\n",
      "/ssd/zhuang/code/FunASR/examples/kespeech/DATA/data3/ES/Beijing/dev/kmeans_label is removing\n",
      "/ssd/zhuang/code/FunASR/examples/kespeech/DATA/data3/ES/Beijing/dev/hubert_9layer.npy is removing\n",
      "/ssd/zhuang/code/FunASR/examples/kespeech/DATA/data3/ES/Beijing/dev/hubert_9layer.len is removing\n",
      "/ssd/zhuang/code/FunASR/examples/kespeech/DATA/data3/ES/Beijing/train/kmeans_label is removing\n",
      "/ssd/zhuang/code/FunASR/examples/kespeech/DATA/data3/ES/Beijing/train/hubert_9layer.npy is removing\n",
      "/ssd/zhuang/code/FunASR/examples/kespeech/DATA/data3/ES/Beijing/train/hubert_9layer.len is removing\n",
      "/ssd/zhuang/code/FunASR/examples/kespeech/DATA/data3/ES/Mandarin/test/kmeans_label is removing\n",
      "/ssd/zhuang/code/FunASR/examples/kespeech/DATA/data3/ES/Mandarin/test/hubert_9layer.npy is removing\n",
      "/ssd/zhuang/code/FunASR/examples/kespeech/DATA/data3/ES/Mandarin/test/hubert_9layer.len is removing\n",
      "/ssd/zhuang/code/FunASR/examples/kespeech/DATA/data3/ES/Mandarin/dev/kmeans_label is removing\n",
      "/ssd/zhuang/code/FunASR/examples/kespeech/DATA/data3/ES/Mandarin/dev/hubert_9layer.npy is removing\n",
      "/ssd/zhuang/code/FunASR/examples/kespeech/DATA/data3/ES/Mandarin/dev/hubert_9layer.len is removing\n",
      "/ssd/zhuang/code/FunASR/examples/kespeech/DATA/data3/ES/Mandarin/train/kmeans_label is removing\n",
      "/ssd/zhuang/code/FunASR/examples/kespeech/DATA/data3/ES/Mandarin/train/hubert_9layer.npy is removing\n",
      "/ssd/zhuang/code/FunASR/examples/kespeech/DATA/data3/ES/Mandarin/train/hubert_9layer.len is removing\n",
      "/ssd/zhuang/code/FunASR/examples/kespeech/DATA/data3/ES/Jiao-Liao/test/kmeans_label is removing\n",
      "/ssd/zhuang/code/FunASR/examples/kespeech/DATA/data3/ES/Jiao-Liao/test/hubert_9layer.npy is removing\n",
      "/ssd/zhuang/code/FunASR/examples/kespeech/DATA/data3/ES/Jiao-Liao/test/hubert_9layer.len is removing\n",
      "/ssd/zhuang/code/FunASR/examples/kespeech/DATA/data3/ES/Jiao-Liao/dev/kmeans_label is removing\n",
      "/ssd/zhuang/code/FunASR/examples/kespeech/DATA/data3/ES/Jiao-Liao/dev/hubert_9layer.npy is removing\n",
      "/ssd/zhuang/code/FunASR/examples/kespeech/DATA/data3/ES/Jiao-Liao/dev/hubert_9layer.len is removing\n",
      "/ssd/zhuang/code/FunASR/examples/kespeech/DATA/data3/ES/Jiao-Liao/train/kmeans_label is removing\n",
      "/ssd/zhuang/code/FunASR/examples/kespeech/DATA/data3/ES/Jiao-Liao/train/hubert_9layer.npy is removing\n",
      "/ssd/zhuang/code/FunASR/examples/kespeech/DATA/data3/ES/Jiao-Liao/train/hubert_9layer.len is removing\n",
      "/ssd/zhuang/code/FunASR/examples/kespeech/DATA/data3/Mandarin/test/kmeans_label is removing\n",
      "/ssd/zhuang/code/FunASR/examples/kespeech/DATA/data3/Mandarin/test/hubert_9layer.npy is removing\n",
      "/ssd/zhuang/code/FunASR/examples/kespeech/DATA/data3/Mandarin/test/hubert_9layer.len is removing\n",
      "/ssd/zhuang/code/FunASR/examples/kespeech/DATA/data3/Mandarin/dev/kmeans_label is removing\n",
      "/ssd/zhuang/code/FunASR/examples/kespeech/DATA/data3/Mandarin/dev/hubert_9layer.npy is removing\n",
      "/ssd/zhuang/code/FunASR/examples/kespeech/DATA/data3/Mandarin/dev/hubert_9layer.len is removing\n",
      "/ssd/zhuang/code/FunASR/examples/kespeech/DATA/data3/Mandarin/train/kmeans_label is removing\n",
      "/ssd/zhuang/code/FunASR/examples/kespeech/DATA/data3/Mandarin/train/hubert_9layer.npy is removing\n",
      "/ssd/zhuang/code/FunASR/examples/kespeech/DATA/data3/Mandarin/train/hubert_9layer.len is removing\n"
     ]
    }
   ],
   "execution_count": 27
  },
  {
   "metadata": {},
   "cell_type": "code",
   "outputs": [],
   "execution_count": null,
   "source": "",
   "id": "6039aab4aa0be51c"
  }
 ],
 "metadata": {
  "kernelspec": {
   "display_name": "Python 3",
   "language": "python",
   "name": "python3"
  },
  "language_info": {
   "codemirror_mode": {
    "name": "ipython",
    "version": 2
   },
   "file_extension": ".py",
   "mimetype": "text/x-python",
   "name": "python",
   "nbconvert_exporter": "python",
   "pygments_lexer": "ipython2",
   "version": "2.7.6"
  }
 },
 "nbformat": 4,
 "nbformat_minor": 5
}
