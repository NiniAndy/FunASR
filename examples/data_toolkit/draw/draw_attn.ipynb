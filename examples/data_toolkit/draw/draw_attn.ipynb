{
 "cells": [
  {
   "cell_type": "code",
   "id": "initial_id",
   "metadata": {
    "collapsed": true,
    "ExecuteTime": {
     "end_time": "2024-09-05T02:55:56.895162Z",
     "start_time": "2024-09-05T02:55:56.870608Z"
    }
   },
   "source": [
    "import numpy as np\n",
    "\n",
    "file_path = \"/ssd/zhuang/code/FunASR/examples/kespeech/conformer_lora/exp/conformer_lora_asrNar_exp6/inference/ES/Beijing/test/att_score.txt\"\n",
    "\n",
    "with open(file_path, 'r', encoding='utf-8') as file:\n",
    "    # 读取所有行并去掉换行符\n",
    "    content = ''.join(file.readlines())\n",
    "    "
   ],
   "outputs": [
    {
     "ename": "FileNotFoundError",
     "evalue": "[Errno 2] No such file or directory: '/ssd/zhuang/code/FunASR/examples/kespeech/conformer_lora/exp/conformer_lora_asrNar_exp6/inference/ES/Beijing/test/att_score.txt'",
     "output_type": "error",
     "traceback": [
      "\u001B[0;31m---------------------------------------------------------------------------\u001B[0m",
      "\u001B[0;31mFileNotFoundError\u001B[0m                         Traceback (most recent call last)",
      "Input \u001B[0;32mIn [2]\u001B[0m, in \u001B[0;36m<cell line: 5>\u001B[0;34m()\u001B[0m\n\u001B[1;32m      1\u001B[0m \u001B[38;5;28;01mimport\u001B[39;00m \u001B[38;5;21;01mnumpy\u001B[39;00m \u001B[38;5;28;01mas\u001B[39;00m \u001B[38;5;21;01mnp\u001B[39;00m\n\u001B[1;32m      3\u001B[0m file_path \u001B[38;5;241m=\u001B[39m \u001B[38;5;124m\"\u001B[39m\u001B[38;5;124m/ssd/zhuang/code/FunASR/examples/kespeech/conformer_lora/exp/conformer_lora_asrNar_exp6/inference/ES/Beijing/test/att_score.txt\u001B[39m\u001B[38;5;124m\"\u001B[39m\n\u001B[0;32m----> 5\u001B[0m \u001B[38;5;28;01mwith\u001B[39;00m \u001B[38;5;28;43mopen\u001B[39;49m\u001B[43m(\u001B[49m\u001B[43mfile_path\u001B[49m\u001B[43m,\u001B[49m\u001B[43m \u001B[49m\u001B[38;5;124;43m'\u001B[39;49m\u001B[38;5;124;43mr\u001B[39;49m\u001B[38;5;124;43m'\u001B[39;49m\u001B[43m,\u001B[49m\u001B[43m \u001B[49m\u001B[43mencoding\u001B[49m\u001B[38;5;241;43m=\u001B[39;49m\u001B[38;5;124;43m'\u001B[39;49m\u001B[38;5;124;43mutf-8\u001B[39;49m\u001B[38;5;124;43m'\u001B[39;49m\u001B[43m)\u001B[49m \u001B[38;5;28;01mas\u001B[39;00m file:\n\u001B[1;32m      6\u001B[0m     \u001B[38;5;66;03m# 读取所有行并去掉换行符\u001B[39;00m\n\u001B[1;32m      7\u001B[0m     content \u001B[38;5;241m=\u001B[39m \u001B[38;5;124m'\u001B[39m\u001B[38;5;124m'\u001B[39m\u001B[38;5;241m.\u001B[39mjoin(file\u001B[38;5;241m.\u001B[39mreadlines())\n",
      "\u001B[0;31mFileNotFoundError\u001B[0m: [Errno 2] No such file or directory: '/ssd/zhuang/code/FunASR/examples/kespeech/conformer_lora/exp/conformer_lora_asrNar_exp6/inference/ES/Beijing/test/att_score.txt'"
     ]
    }
   ],
   "execution_count": 2
  },
  {
   "metadata": {
    "ExecuteTime": {
     "end_time": "2024-09-04T08:18:39.563050Z",
     "start_time": "2024-09-04T08:18:39.542198Z"
    }
   },
   "cell_type": "code",
   "source": "items = content.split(\"]\\n[\")",
   "id": "2180efa884019007",
   "outputs": [],
   "execution_count": 50
  },
  {
   "metadata": {
    "ExecuteTime": {
     "end_time": "2024-09-04T08:18:40.771951Z",
     "start_time": "2024-09-04T08:18:40.197512Z"
    }
   },
   "cell_type": "code",
   "source": [
    "list = []\n",
    "for item in items:\n",
    "    scores = item.split(\" \")\n",
    "    scores_list = []\n",
    "    for score in scores:\n",
    "        if score != '':\n",
    "            \n",
    "            score = score.replace(\"\\n\", \"\")\n",
    "            score = score.replace('[', '')\n",
    "            score = score.replace(']', '')\n",
    "            scores_list.append(float(score))\n",
    "    list.append(scores_list)\n",
    "    \n",
    "print (list)"
   ],
   "id": "1917e2433a174f59",
   "outputs": [
    {
     "name": "stderr",
     "output_type": "stream",
     "text": [
      "IOPub data rate exceeded.\n",
      "The Jupyter server will temporarily stop sending output\n",
      "to the client in order to avoid crashing it.\n",
      "To change this limit, set the config variable\n",
      "`--ServerApp.iopub_data_rate_limit`.\n",
      "\n",
      "Current values:\n",
      "ServerApp.iopub_data_rate_limit=1000000.0 (bytes/sec)\n",
      "ServerApp.rate_limit_window=3.0 (secs)\n",
      "\n"
     ]
    }
   ],
   "execution_count": 51
  },
  {
   "metadata": {
    "ExecuteTime": {
     "end_time": "2024-09-04T08:18:41.638919Z",
     "start_time": "2024-09-04T08:18:41.591841Z"
    }
   },
   "cell_type": "code",
   "source": [
    "data_np = np.array(list)\n",
    "data_np.sum(axis=0)/(data_np.shape[0]*4)"
   ],
   "id": "adbfb19626faaf72",
   "outputs": [
    {
     "data": {
      "text/plain": [
       "array([0.11070471, 0.1112613 , 0.11100066, 0.11184063, 0.11093981,\n",
       "       0.11217397, 0.11090075, 0.11103157, 0.1106995 ])"
      ]
     },
     "execution_count": 52,
     "metadata": {},
     "output_type": "execute_result"
    }
   ],
   "execution_count": 52
  },
  {
   "metadata": {},
   "cell_type": "code",
   "outputs": [],
   "execution_count": null,
   "source": [
    "import matplotlib.pyplot as plt\n",
    "\n",
    "plt.figure(figsize=(20, 10))\n",
    "plt.imshow(list, cmap='hot', interpolation='nearest')"
   ],
   "id": "d97c07f272cce7af"
  }
 ],
 "metadata": {
  "kernelspec": {
   "display_name": "Python 3",
   "language": "python",
   "name": "python3"
  },
  "language_info": {
   "codemirror_mode": {
    "name": "ipython",
    "version": 2
   },
   "file_extension": ".py",
   "mimetype": "text/x-python",
   "name": "python",
   "nbconvert_exporter": "python",
   "pygments_lexer": "ipython2",
   "version": "2.7.6"
  }
 },
 "nbformat": 4,
 "nbformat_minor": 5
}
