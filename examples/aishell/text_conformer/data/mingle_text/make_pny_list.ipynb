{
 "cells": [
  {
   "cell_type": "code",
   "id": "initial_id",
   "metadata": {
    "collapsed": true,
    "ExecuteTime": {
     "end_time": "2024-10-31T02:45:24.743532Z",
     "start_time": "2024-10-31T02:45:24.729072Z"
    }
   },
   "source": [
    "from pypinyin import lazy_pinyin, INITIALS, FINALS_TONE3\n",
    "from tqdm import tqdm\n",
    "\n",
    "def make_pny(sentence):\n",
    "    origin_initials = lazy_pinyin(sentence, INITIALS)  # 声母\n",
    "    origin_vowel = lazy_pinyin(sentence, FINALS_TONE3)  # 韵母和音调\n",
    "    origin_pinyin = [origin_initials[j] + origin_vowel[j] for j in range(len(origin_initials))]\n",
    "    return origin_pinyin"
   ],
   "outputs": [],
   "execution_count": 7
  },
  {
   "metadata": {
    "ExecuteTime": {
     "end_time": "2024-10-31T02:42:18.437661Z",
     "start_time": "2024-10-31T02:42:18.421201Z"
    }
   },
   "cell_type": "code",
   "source": "make_pny('我是中国人')",
   "id": "45aa526c194bdf3c",
   "outputs": [
    {
     "data": {
      "text/plain": [
       "['uo3', 'shi4', 'zhong1', 'guo2', 'ren2']"
      ]
     },
     "execution_count": 3,
     "metadata": {},
     "output_type": "execute_result"
    }
   ],
   "execution_count": 3
  },
  {
   "metadata": {
    "ExecuteTime": {
     "end_time": "2024-10-31T02:46:09.213232Z",
     "start_time": "2024-10-31T02:45:27.179711Z"
    }
   },
   "cell_type": "code",
   "source": [
    "text_path  = \"/ssd/zhuang/code/FunASR/funasr/models/cnc/data/mingle_text/train_lab.txt\"\n",
    "with open(text_path, 'r', encoding='utf-8') as f:\n",
    "    lines = f.readlines()\n",
    "    \n",
    "pny_list = []\n",
    "\n",
    "for i in tqdm(range(len(lines))):\n",
    "    line = lines[i].strip()\n",
    "    pnys = make_pny(line)\n",
    "    \n",
    "    for pny in pnys:\n",
    "        if pny not in pny_list:\n",
    "            pny_list.append(pny)"
   ],
   "id": "d348ec4d5f199293",
   "outputs": [
    {
     "name": "stderr",
     "output_type": "stream",
     "text": [
      "100%|██████████| 113299/113299 [00:41<00:00, 2698.95it/s]\n"
     ]
    }
   ],
   "execution_count": 8
  },
  {
   "metadata": {
    "ExecuteTime": {
     "end_time": "2024-10-31T02:48:29.763681Z",
     "start_time": "2024-10-31T02:48:29.752940Z"
    }
   },
   "cell_type": "code",
   "source": "len(pny_list)",
   "id": "148bbbaf069bdc17",
   "outputs": [
    {
     "data": {
      "text/plain": [
       "1180"
      ]
     },
     "execution_count": 11,
     "metadata": {},
     "output_type": "execute_result"
    }
   ],
   "execution_count": 11
  },
  {
   "metadata": {
    "ExecuteTime": {
     "end_time": "2024-10-31T02:59:31.634723Z",
     "start_time": "2024-10-31T02:59:31.625104Z"
    }
   },
   "cell_type": "code",
   "source": [
    "save_path  = \"/ssd/zhuang/code/FunASR/funasr/models/cnc/data/mingle_text/tokens.txt\"\n",
    "with open(save_path, 'w', encoding='utf-8') as f:\n",
    "    for pny in pny_list:\n",
    "        f.write(pny + '\\n')\n",
    "        "
   ],
   "id": "d025c6e114099802",
   "outputs": [],
   "execution_count": 13
  },
  {
   "metadata": {
    "jupyter": {
     "is_executing": true
    }
   },
   "cell_type": "code",
   "source": "import torch",
   "id": "a2ad31ed7007faca",
   "outputs": [],
   "execution_count": null
  },
  {
   "metadata": {},
   "cell_type": "code",
   "outputs": [],
   "execution_count": null,
   "source": "",
   "id": "ca154a135d985f66"
  }
 ],
 "metadata": {
  "kernelspec": {
   "display_name": "Python 3",
   "language": "python",
   "name": "python3"
  },
  "language_info": {
   "codemirror_mode": {
    "name": "ipython",
    "version": 2
   },
   "file_extension": ".py",
   "mimetype": "text/x-python",
   "name": "python",
   "nbconvert_exporter": "python",
   "pygments_lexer": "ipython2",
   "version": "2.7.6"
  }
 },
 "nbformat": 4,
 "nbformat_minor": 5
}
