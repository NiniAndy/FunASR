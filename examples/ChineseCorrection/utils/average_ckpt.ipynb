{
 "cells": [
  {
   "cell_type": "code",
   "id": "initial_id",
   "metadata": {
    "collapsed": true,
    "ExecuteTime": {
     "end_time": "2024-11-15T01:55:17.745522Z",
     "start_time": "2024-11-15T01:55:16.125460Z"
    }
   },
   "source": [
    "import torch\n",
    "import os\n",
    "import re\n",
    "from collections import OrderedDict"
   ],
   "outputs": [],
   "execution_count": 2
  },
  {
   "metadata": {
    "ExecuteTime": {
     "end_time": "2024-11-15T02:01:42.138650Z",
     "start_time": "2024-11-15T02:01:42.123468Z"
    }
   },
   "cell_type": "code",
   "source": [
    "def average_checkpoints(checkpoint_root, last_n: int = 5, **kwargs):\n",
    "    \"\"\"\n",
    "    Average the last 'last_n' checkpoints' model state_dicts.\n",
    "    If a tensor is of type torch.int, perform sum instead of average.\n",
    "    \"\"\"\n",
    "    checkpoint_paths = []\n",
    "    for i,_, files in os.walk(checkpoint_root):\n",
    "        for file in files:\n",
    "            if file.endswith('.pt'):\n",
    "                ckpt_path = os.path.join(i, file)\n",
    "                checkpoint_paths.append(ckpt_path)\n",
    "    \n",
    "    print(f\"average_checkpoints: {checkpoint_paths}\")\n",
    "    state_dicts = []\n",
    "\n",
    "    # Load state_dicts from checkpoints\n",
    "    for path in checkpoint_paths:\n",
    "        if os.path.isfile(path):\n",
    "            # state_dicts.append(torch.load(path, map_location=\"cpu\")[\"state_dict\"])\n",
    "            state_dicts.append(torch.load(path, map_location=\"cpu\", weights_only=True))\n",
    "\n",
    "        else:\n",
    "            print(f\"Checkpoint file {path} not found.\")\n",
    "\n",
    "    # Check if we have any state_dicts to average\n",
    "    if len(state_dicts) < 1:\n",
    "        print(\"No checkpoints found for averaging.\")\n",
    "        return\n",
    "\n",
    "    # Average or sum weights\n",
    "    avg_state_dict = OrderedDict()\n",
    "    for key in state_dicts[0].keys():\n",
    "        tensors = [state_dict[key].cpu() for state_dict in state_dicts]\n",
    "        # Check the type of the tensor\n",
    "        if str(tensors[0].dtype).startswith(\"torch.int\"):\n",
    "            # Perform sum for integer tensors\n",
    "            summed_tensor = sum(tensors)\n",
    "            avg_state_dict[key] = summed_tensor\n",
    "        else:\n",
    "            # Perform average for other types of tensors\n",
    "            stacked_tensors = torch.stack(tensors)\n",
    "            avg_state_dict[key] = torch.mean(stacked_tensors, dim=0)\n",
    "    checkpoint_outpath = os.path.join(checkpoint_root, f\"model.pt.avg{last_n}\")\n",
    "    torch.save({\"state_dict\": avg_state_dict}, checkpoint_outpath)\n",
    "    return checkpoint_outpath"
   ],
   "id": "a762ef75667d23f4",
   "outputs": [],
   "execution_count": 10
  },
  {
   "metadata": {},
   "cell_type": "markdown",
   "source": "# 首先先把ckpt转换成pt格式，然后再进行平均",
   "id": "4ad5ad29a4d73dc6"
  },
  {
   "metadata": {
    "ExecuteTime": {
     "end_time": "2024-11-15T01:56:06.911571Z",
     "start_time": "2024-11-15T01:56:00.222871Z"
    }
   },
   "cell_type": "code",
   "source": [
    "root = \"/ssd/zhuang/code/FunASR/examples/ChineseCorrection/tb_logs/stage_1/version_0/checkpoints/\"\n",
    "for i,_, files in os.walk(root):\n",
    "    for file in files:\n",
    "        if file.endswith('.ckpt'):\n",
    "            ckpt_path = os.path.join(i, file)\n",
    "            pt_path = ckpt_path.replace('.ckpt', '.pt')\n",
    "            model = torch.load(ckpt_path, map_location='cpu')['state_dict']\n",
    "            pt_model = {}\n",
    "            for k, v in model.items():\n",
    "                pt_model[k.replace('model.', '')] = v\n",
    "            torch.save(pt_model, pt_path)\n",
    "            print(f'Convert {ckpt_path} to {pt_path}')"
   ],
   "id": "84303178e08d15d1",
   "outputs": [
    {
     "name": "stdout",
     "output_type": "stream",
     "text": [
      "/ssd/zhuang/code/FunASR/examples/ChineseCorrection/tb_logs/stage_1/version_0/checkpoints/epoch=96-val_loss=7.5840-val_asr_acc=0.9475.ckpt\n"
     ]
    },
    {
     "name": "stderr",
     "output_type": "stream",
     "text": [
      "/tmp/ipykernel_1174878/1221808352.py:8: FutureWarning: You are using `torch.load` with `weights_only=False` (the current default value), which uses the default pickle module implicitly. It is possible to construct malicious pickle data which will execute arbitrary code during unpickling (See https://github.com/pytorch/pytorch/blob/main/SECURITY.md#untrusted-models for more details). In a future release, the default value for `weights_only` will be flipped to `True`. This limits the functions that could be executed during unpickling. Arbitrary objects will no longer be allowed to be loaded via this mode unless they are explicitly allowlisted by the user via `torch.serialization.add_safe_globals`. We recommend you start setting `weights_only=True` for any use case where you don't have full control of the loaded file. Please open an issue on GitHub for any issues related to this experimental feature.\n",
      "  model = torch.load(ckpt_path, map_location='cpu')['state_dict']\n",
      "/home/zhuang/anaconda3/envs/funasr/lib/python3.9/site-packages/tqdm/auto.py:21: TqdmWarning: IProgress not found. Please update jupyter and ipywidgets. See https://ipywidgets.readthedocs.io/en/stable/user_install.html\n",
      "  from .autonotebook import tqdm as notebook_tqdm\n",
      "/home/zhuang/anaconda3/envs/funasr/lib/python3.9/site-packages/rotary_embedding_torch/rotary_embedding_torch.py:35: FutureWarning: `torch.cuda.amp.autocast(args...)` is deprecated. Please use `torch.amp.autocast('cuda', args...)` instead.\n",
      "  @autocast(enabled = False)\n",
      "/home/zhuang/anaconda3/envs/funasr/lib/python3.9/site-packages/rotary_embedding_torch/rotary_embedding_torch.py:254: FutureWarning: `torch.cuda.amp.autocast(args...)` is deprecated. Please use `torch.amp.autocast('cuda', args...)` instead.\n",
      "  @autocast(enabled = False)\n"
     ]
    },
    {
     "name": "stdout",
     "output_type": "stream",
     "text": [
      "Convert /ssd/zhuang/code/FunASR/examples/ChineseCorrection/tb_logs/stage_1/version_0/checkpoints/epoch=96-val_loss=7.5840-val_asr_acc=0.9475.ckpt to /ssd/zhuang/code/FunASR/examples/ChineseCorrection/tb_logs/stage_1/version_0/checkpoints/epoch=96-val_loss=7.5840-val_asr_acc=0.9475.pt\n",
      "/ssd/zhuang/code/FunASR/examples/ChineseCorrection/tb_logs/stage_1/version_0/checkpoints/epoch=98-val_loss=7.5216-val_asr_acc=0.9480.ckpt\n",
      "Convert /ssd/zhuang/code/FunASR/examples/ChineseCorrection/tb_logs/stage_1/version_0/checkpoints/epoch=98-val_loss=7.5216-val_asr_acc=0.9480.ckpt to /ssd/zhuang/code/FunASR/examples/ChineseCorrection/tb_logs/stage_1/version_0/checkpoints/epoch=98-val_loss=7.5216-val_asr_acc=0.9480.pt\n",
      "/ssd/zhuang/code/FunASR/examples/ChineseCorrection/tb_logs/stage_1/version_0/checkpoints/epoch=92-val_loss=7.7163-val_asr_acc=0.9465.ckpt\n"
     ]
    },
    {
     "name": "stderr",
     "output_type": "stream",
     "text": [
      "/tmp/ipykernel_1174878/1221808352.py:8: FutureWarning: You are using `torch.load` with `weights_only=False` (the current default value), which uses the default pickle module implicitly. It is possible to construct malicious pickle data which will execute arbitrary code during unpickling (See https://github.com/pytorch/pytorch/blob/main/SECURITY.md#untrusted-models for more details). In a future release, the default value for `weights_only` will be flipped to `True`. This limits the functions that could be executed during unpickling. Arbitrary objects will no longer be allowed to be loaded via this mode unless they are explicitly allowlisted by the user via `torch.serialization.add_safe_globals`. We recommend you start setting `weights_only=True` for any use case where you don't have full control of the loaded file. Please open an issue on GitHub for any issues related to this experimental feature.\n",
      "  model = torch.load(ckpt_path, map_location='cpu')['state_dict']\n"
     ]
    },
    {
     "name": "stdout",
     "output_type": "stream",
     "text": [
      "Convert /ssd/zhuang/code/FunASR/examples/ChineseCorrection/tb_logs/stage_1/version_0/checkpoints/epoch=92-val_loss=7.7163-val_asr_acc=0.9465.ckpt to /ssd/zhuang/code/FunASR/examples/ChineseCorrection/tb_logs/stage_1/version_0/checkpoints/epoch=92-val_loss=7.7163-val_asr_acc=0.9465.pt\n",
      "/ssd/zhuang/code/FunASR/examples/ChineseCorrection/tb_logs/stage_1/version_0/checkpoints/epoch=95-val_loss=7.6161-val_asr_acc=0.9472.ckpt\n",
      "Convert /ssd/zhuang/code/FunASR/examples/ChineseCorrection/tb_logs/stage_1/version_0/checkpoints/epoch=95-val_loss=7.6161-val_asr_acc=0.9472.ckpt to /ssd/zhuang/code/FunASR/examples/ChineseCorrection/tb_logs/stage_1/version_0/checkpoints/epoch=95-val_loss=7.6161-val_asr_acc=0.9472.pt\n",
      "/ssd/zhuang/code/FunASR/examples/ChineseCorrection/tb_logs/stage_1/version_0/checkpoints/epoch=93-val_loss=7.6823-val_asr_acc=0.9467.ckpt\n",
      "Convert /ssd/zhuang/code/FunASR/examples/ChineseCorrection/tb_logs/stage_1/version_0/checkpoints/epoch=93-val_loss=7.6823-val_asr_acc=0.9467.ckpt to /ssd/zhuang/code/FunASR/examples/ChineseCorrection/tb_logs/stage_1/version_0/checkpoints/epoch=93-val_loss=7.6823-val_asr_acc=0.9467.pt\n",
      "/ssd/zhuang/code/FunASR/examples/ChineseCorrection/tb_logs/stage_1/version_0/checkpoints/epoch=101-val_loss=7.4322-val_asr_acc=0.9487.ckpt\n",
      "Convert /ssd/zhuang/code/FunASR/examples/ChineseCorrection/tb_logs/stage_1/version_0/checkpoints/epoch=101-val_loss=7.4322-val_asr_acc=0.9487.ckpt to /ssd/zhuang/code/FunASR/examples/ChineseCorrection/tb_logs/stage_1/version_0/checkpoints/epoch=101-val_loss=7.4322-val_asr_acc=0.9487.pt\n",
      "/ssd/zhuang/code/FunASR/examples/ChineseCorrection/tb_logs/stage_1/version_0/checkpoints/epoch=100-val_loss=7.4615-val_asr_acc=0.9484.ckpt\n",
      "Convert /ssd/zhuang/code/FunASR/examples/ChineseCorrection/tb_logs/stage_1/version_0/checkpoints/epoch=100-val_loss=7.4615-val_asr_acc=0.9484.ckpt to /ssd/zhuang/code/FunASR/examples/ChineseCorrection/tb_logs/stage_1/version_0/checkpoints/epoch=100-val_loss=7.4615-val_asr_acc=0.9484.pt\n",
      "/ssd/zhuang/code/FunASR/examples/ChineseCorrection/tb_logs/stage_1/version_0/checkpoints/epoch=94-val_loss=7.6488-val_asr_acc=0.9470.ckpt\n",
      "Convert /ssd/zhuang/code/FunASR/examples/ChineseCorrection/tb_logs/stage_1/version_0/checkpoints/epoch=94-val_loss=7.6488-val_asr_acc=0.9470.ckpt to /ssd/zhuang/code/FunASR/examples/ChineseCorrection/tb_logs/stage_1/version_0/checkpoints/epoch=94-val_loss=7.6488-val_asr_acc=0.9470.pt\n",
      "/ssd/zhuang/code/FunASR/examples/ChineseCorrection/tb_logs/stage_1/version_0/checkpoints/epoch=97-val_loss=7.5525-val_asr_acc=0.9477.ckpt\n",
      "Convert /ssd/zhuang/code/FunASR/examples/ChineseCorrection/tb_logs/stage_1/version_0/checkpoints/epoch=97-val_loss=7.5525-val_asr_acc=0.9477.ckpt to /ssd/zhuang/code/FunASR/examples/ChineseCorrection/tb_logs/stage_1/version_0/checkpoints/epoch=97-val_loss=7.5525-val_asr_acc=0.9477.pt\n",
      "/ssd/zhuang/code/FunASR/examples/ChineseCorrection/tb_logs/stage_1/version_0/checkpoints/epoch=99-val_loss=7.4913-val_asr_acc=0.9482.ckpt\n",
      "Convert /ssd/zhuang/code/FunASR/examples/ChineseCorrection/tb_logs/stage_1/version_0/checkpoints/epoch=99-val_loss=7.4913-val_asr_acc=0.9482.ckpt to /ssd/zhuang/code/FunASR/examples/ChineseCorrection/tb_logs/stage_1/version_0/checkpoints/epoch=99-val_loss=7.4913-val_asr_acc=0.9482.pt\n"
     ]
    }
   ],
   "execution_count": 4
  },
  {
   "metadata": {
    "ExecuteTime": {
     "end_time": "2024-11-15T01:57:45.390654Z",
     "start_time": "2024-11-15T01:57:45.334586Z"
    }
   },
   "cell_type": "code",
   "source": [
    "model_path = \"/ssd/zhuang/code/FunASR/examples/ChineseCorrection/tb_logs/stage_1/version_0/checkpoints/epoch=100-val_loss=7.4615-val_asr_acc=0.9484.pt\"\n",
    "model = torch.load(model_path, map_location='cpu')\n",
    "model.keys()"
   ],
   "id": "7304fd5566028821",
   "outputs": [
    {
     "name": "stderr",
     "output_type": "stream",
     "text": [
      "/tmp/ipykernel_1174878/3295833440.py:2: FutureWarning: You are using `torch.load` with `weights_only=False` (the current default value), which uses the default pickle module implicitly. It is possible to construct malicious pickle data which will execute arbitrary code during unpickling (See https://github.com/pytorch/pytorch/blob/main/SECURITY.md#untrusted-models for more details). In a future release, the default value for `weights_only` will be flipped to `True`. This limits the functions that could be executed during unpickling. Arbitrary objects will no longer be allowed to be loaded via this mode unless they are explicitly allowlisted by the user via `torch.serialization.add_safe_globals`. We recommend you start setting `weights_only=True` for any use case where you don't have full control of the loaded file. Please open an issue on GitHub for any issues related to this experimental feature.\n",
      "  model = torch.load(model_path, map_location='cpu')\n"
     ]
    },
    {
     "data": {
      "text/plain": [
       "dict_keys(['encoder.embed.0.weight', 'encoder.encoders.0.self_attn.linear_q.weight', 'encoder.encoders.0.self_attn.linear_q.bias', 'encoder.encoders.0.self_attn.linear_k.weight', 'encoder.encoders.0.self_attn.linear_k.bias', 'encoder.encoders.0.self_attn.linear_v.weight', 'encoder.encoders.0.self_attn.linear_v.bias', 'encoder.encoders.0.self_attn.linear_out.weight', 'encoder.encoders.0.self_attn.linear_out.bias', 'encoder.encoders.0.feed_forward.w_1.weight', 'encoder.encoders.0.feed_forward.w_1.bias', 'encoder.encoders.0.feed_forward.w_2.weight', 'encoder.encoders.0.feed_forward.w_2.bias', 'encoder.encoders.0.norm1.weight', 'encoder.encoders.0.norm1.bias', 'encoder.encoders.0.norm2.weight', 'encoder.encoders.0.norm2.bias', 'encoder.encoders.1.self_attn.linear_q.weight', 'encoder.encoders.1.self_attn.linear_q.bias', 'encoder.encoders.1.self_attn.linear_k.weight', 'encoder.encoders.1.self_attn.linear_k.bias', 'encoder.encoders.1.self_attn.linear_v.weight', 'encoder.encoders.1.self_attn.linear_v.bias', 'encoder.encoders.1.self_attn.linear_out.weight', 'encoder.encoders.1.self_attn.linear_out.bias', 'encoder.encoders.1.feed_forward.w_1.weight', 'encoder.encoders.1.feed_forward.w_1.bias', 'encoder.encoders.1.feed_forward.w_2.weight', 'encoder.encoders.1.feed_forward.w_2.bias', 'encoder.encoders.1.norm1.weight', 'encoder.encoders.1.norm1.bias', 'encoder.encoders.1.norm2.weight', 'encoder.encoders.1.norm2.bias', 'encoder.encoders.2.self_attn.linear_q.weight', 'encoder.encoders.2.self_attn.linear_q.bias', 'encoder.encoders.2.self_attn.linear_k.weight', 'encoder.encoders.2.self_attn.linear_k.bias', 'encoder.encoders.2.self_attn.linear_v.weight', 'encoder.encoders.2.self_attn.linear_v.bias', 'encoder.encoders.2.self_attn.linear_out.weight', 'encoder.encoders.2.self_attn.linear_out.bias', 'encoder.encoders.2.feed_forward.w_1.weight', 'encoder.encoders.2.feed_forward.w_1.bias', 'encoder.encoders.2.feed_forward.w_2.weight', 'encoder.encoders.2.feed_forward.w_2.bias', 'encoder.encoders.2.norm1.weight', 'encoder.encoders.2.norm1.bias', 'encoder.encoders.2.norm2.weight', 'encoder.encoders.2.norm2.bias', 'encoder.encoders.3.self_attn.linear_q.weight', 'encoder.encoders.3.self_attn.linear_q.bias', 'encoder.encoders.3.self_attn.linear_k.weight', 'encoder.encoders.3.self_attn.linear_k.bias', 'encoder.encoders.3.self_attn.linear_v.weight', 'encoder.encoders.3.self_attn.linear_v.bias', 'encoder.encoders.3.self_attn.linear_out.weight', 'encoder.encoders.3.self_attn.linear_out.bias', 'encoder.encoders.3.feed_forward.w_1.weight', 'encoder.encoders.3.feed_forward.w_1.bias', 'encoder.encoders.3.feed_forward.w_2.weight', 'encoder.encoders.3.feed_forward.w_2.bias', 'encoder.encoders.3.norm1.weight', 'encoder.encoders.3.norm1.bias', 'encoder.encoders.3.norm2.weight', 'encoder.encoders.3.norm2.bias', 'encoder.after_norm.weight', 'encoder.after_norm.bias', 'decoder.embed.0.weight', 'decoder.after_norm.weight', 'decoder.after_norm.bias', 'decoder.output_layer.weight', 'decoder.output_layer.bias', 'decoder.decoders.0.self_attn.linear_q.weight', 'decoder.decoders.0.self_attn.linear_q.bias', 'decoder.decoders.0.self_attn.linear_k.weight', 'decoder.decoders.0.self_attn.linear_k.bias', 'decoder.decoders.0.self_attn.linear_v.weight', 'decoder.decoders.0.self_attn.linear_v.bias', 'decoder.decoders.0.self_attn.linear_out.weight', 'decoder.decoders.0.self_attn.linear_out.bias', 'decoder.decoders.0.src_attn.linear_q.weight', 'decoder.decoders.0.src_attn.linear_q.bias', 'decoder.decoders.0.src_attn.linear_k.weight', 'decoder.decoders.0.src_attn.linear_k.bias', 'decoder.decoders.0.src_attn.linear_v.weight', 'decoder.decoders.0.src_attn.linear_v.bias', 'decoder.decoders.0.src_attn.linear_out.weight', 'decoder.decoders.0.src_attn.linear_out.bias', 'decoder.decoders.0.feed_forward.w_1.weight', 'decoder.decoders.0.feed_forward.w_1.bias', 'decoder.decoders.0.feed_forward.w_2.weight', 'decoder.decoders.0.feed_forward.w_2.bias', 'decoder.decoders.0.norm1.weight', 'decoder.decoders.0.norm1.bias', 'decoder.decoders.0.norm2.weight', 'decoder.decoders.0.norm2.bias', 'decoder.decoders.0.norm3.weight', 'decoder.decoders.0.norm3.bias', 'decoder.decoders.1.self_attn.linear_q.weight', 'decoder.decoders.1.self_attn.linear_q.bias', 'decoder.decoders.1.self_attn.linear_k.weight', 'decoder.decoders.1.self_attn.linear_k.bias', 'decoder.decoders.1.self_attn.linear_v.weight', 'decoder.decoders.1.self_attn.linear_v.bias', 'decoder.decoders.1.self_attn.linear_out.weight', 'decoder.decoders.1.self_attn.linear_out.bias', 'decoder.decoders.1.src_attn.linear_q.weight', 'decoder.decoders.1.src_attn.linear_q.bias', 'decoder.decoders.1.src_attn.linear_k.weight', 'decoder.decoders.1.src_attn.linear_k.bias', 'decoder.decoders.1.src_attn.linear_v.weight', 'decoder.decoders.1.src_attn.linear_v.bias', 'decoder.decoders.1.src_attn.linear_out.weight', 'decoder.decoders.1.src_attn.linear_out.bias', 'decoder.decoders.1.feed_forward.w_1.weight', 'decoder.decoders.1.feed_forward.w_1.bias', 'decoder.decoders.1.feed_forward.w_2.weight', 'decoder.decoders.1.feed_forward.w_2.bias', 'decoder.decoders.1.norm1.weight', 'decoder.decoders.1.norm1.bias', 'decoder.decoders.1.norm2.weight', 'decoder.decoders.1.norm2.bias', 'decoder.decoders.1.norm3.weight', 'decoder.decoders.1.norm3.bias', 'decoder.decoders.2.self_attn.linear_q.weight', 'decoder.decoders.2.self_attn.linear_q.bias', 'decoder.decoders.2.self_attn.linear_k.weight', 'decoder.decoders.2.self_attn.linear_k.bias', 'decoder.decoders.2.self_attn.linear_v.weight', 'decoder.decoders.2.self_attn.linear_v.bias', 'decoder.decoders.2.self_attn.linear_out.weight', 'decoder.decoders.2.self_attn.linear_out.bias', 'decoder.decoders.2.src_attn.linear_q.weight', 'decoder.decoders.2.src_attn.linear_q.bias', 'decoder.decoders.2.src_attn.linear_k.weight', 'decoder.decoders.2.src_attn.linear_k.bias', 'decoder.decoders.2.src_attn.linear_v.weight', 'decoder.decoders.2.src_attn.linear_v.bias', 'decoder.decoders.2.src_attn.linear_out.weight', 'decoder.decoders.2.src_attn.linear_out.bias', 'decoder.decoders.2.feed_forward.w_1.weight', 'decoder.decoders.2.feed_forward.w_1.bias', 'decoder.decoders.2.feed_forward.w_2.weight', 'decoder.decoders.2.feed_forward.w_2.bias', 'decoder.decoders.2.norm1.weight', 'decoder.decoders.2.norm1.bias', 'decoder.decoders.2.norm2.weight', 'decoder.decoders.2.norm2.bias', 'decoder.decoders.2.norm3.weight', 'decoder.decoders.2.norm3.bias', 'decoder.decoders.3.self_attn.linear_q.weight', 'decoder.decoders.3.self_attn.linear_q.bias', 'decoder.decoders.3.self_attn.linear_k.weight', 'decoder.decoders.3.self_attn.linear_k.bias', 'decoder.decoders.3.self_attn.linear_v.weight', 'decoder.decoders.3.self_attn.linear_v.bias', 'decoder.decoders.3.self_attn.linear_out.weight', 'decoder.decoders.3.self_attn.linear_out.bias', 'decoder.decoders.3.src_attn.linear_q.weight', 'decoder.decoders.3.src_attn.linear_q.bias', 'decoder.decoders.3.src_attn.linear_k.weight', 'decoder.decoders.3.src_attn.linear_k.bias', 'decoder.decoders.3.src_attn.linear_v.weight', 'decoder.decoders.3.src_attn.linear_v.bias', 'decoder.decoders.3.src_attn.linear_out.weight', 'decoder.decoders.3.src_attn.linear_out.bias', 'decoder.decoders.3.feed_forward.w_1.weight', 'decoder.decoders.3.feed_forward.w_1.bias', 'decoder.decoders.3.feed_forward.w_2.weight', 'decoder.decoders.3.feed_forward.w_2.bias', 'decoder.decoders.3.norm1.weight', 'decoder.decoders.3.norm1.bias', 'decoder.decoders.3.norm2.weight', 'decoder.decoders.3.norm2.bias', 'decoder.decoders.3.norm3.weight', 'decoder.decoders.3.norm3.bias', 'decoder.decoders.4.self_attn.linear_q.weight', 'decoder.decoders.4.self_attn.linear_q.bias', 'decoder.decoders.4.self_attn.linear_k.weight', 'decoder.decoders.4.self_attn.linear_k.bias', 'decoder.decoders.4.self_attn.linear_v.weight', 'decoder.decoders.4.self_attn.linear_v.bias', 'decoder.decoders.4.self_attn.linear_out.weight', 'decoder.decoders.4.self_attn.linear_out.bias', 'decoder.decoders.4.src_attn.linear_q.weight', 'decoder.decoders.4.src_attn.linear_q.bias', 'decoder.decoders.4.src_attn.linear_k.weight', 'decoder.decoders.4.src_attn.linear_k.bias', 'decoder.decoders.4.src_attn.linear_v.weight', 'decoder.decoders.4.src_attn.linear_v.bias', 'decoder.decoders.4.src_attn.linear_out.weight', 'decoder.decoders.4.src_attn.linear_out.bias', 'decoder.decoders.4.feed_forward.w_1.weight', 'decoder.decoders.4.feed_forward.w_1.bias', 'decoder.decoders.4.feed_forward.w_2.weight', 'decoder.decoders.4.feed_forward.w_2.bias', 'decoder.decoders.4.norm1.weight', 'decoder.decoders.4.norm1.bias', 'decoder.decoders.4.norm2.weight', 'decoder.decoders.4.norm2.bias', 'decoder.decoders.4.norm3.weight', 'decoder.decoders.4.norm3.bias', 'decoder.decoders.5.self_attn.linear_q.weight', 'decoder.decoders.5.self_attn.linear_q.bias', 'decoder.decoders.5.self_attn.linear_k.weight', 'decoder.decoders.5.self_attn.linear_k.bias', 'decoder.decoders.5.self_attn.linear_v.weight', 'decoder.decoders.5.self_attn.linear_v.bias', 'decoder.decoders.5.self_attn.linear_out.weight', 'decoder.decoders.5.self_attn.linear_out.bias', 'decoder.decoders.5.src_attn.linear_q.weight', 'decoder.decoders.5.src_attn.linear_q.bias', 'decoder.decoders.5.src_attn.linear_k.weight', 'decoder.decoders.5.src_attn.linear_k.bias', 'decoder.decoders.5.src_attn.linear_v.weight', 'decoder.decoders.5.src_attn.linear_v.bias', 'decoder.decoders.5.src_attn.linear_out.weight', 'decoder.decoders.5.src_attn.linear_out.bias', 'decoder.decoders.5.feed_forward.w_1.weight', 'decoder.decoders.5.feed_forward.w_1.bias', 'decoder.decoders.5.feed_forward.w_2.weight', 'decoder.decoders.5.feed_forward.w_2.bias', 'decoder.decoders.5.norm1.weight', 'decoder.decoders.5.norm1.bias', 'decoder.decoders.5.norm2.weight', 'decoder.decoders.5.norm2.bias', 'decoder.decoders.5.norm3.weight', 'decoder.decoders.5.norm3.bias', 'ctc.ctc_lo.weight', 'ctc.ctc_lo.bias'])"
      ]
     },
     "execution_count": 6,
     "metadata": {},
     "output_type": "execute_result"
    }
   ],
   "execution_count": 6
  },
  {
   "metadata": {
    "ExecuteTime": {
     "end_time": "2024-11-15T02:01:48.696864Z",
     "start_time": "2024-11-15T02:01:47.797528Z"
    }
   },
   "cell_type": "code",
   "source": "average_checkpoints(root, last_n=10)",
   "id": "1a77724a356324a5",
   "outputs": [
    {
     "name": "stdout",
     "output_type": "stream",
     "text": [
      "average_checkpoints: ['/ssd/zhuang/code/FunASR/examples/ChineseCorrection/tb_logs/stage_1/version_0/checkpoints/epoch=100-val_loss=7.4615-val_asr_acc=0.9484.pt', '/ssd/zhuang/code/FunASR/examples/ChineseCorrection/tb_logs/stage_1/version_0/checkpoints/epoch=99-val_loss=7.4913-val_asr_acc=0.9482.pt', '/ssd/zhuang/code/FunASR/examples/ChineseCorrection/tb_logs/stage_1/version_0/checkpoints/epoch=101-val_loss=7.4322-val_asr_acc=0.9487.pt', '/ssd/zhuang/code/FunASR/examples/ChineseCorrection/tb_logs/stage_1/version_0/checkpoints/epoch=92-val_loss=7.7163-val_asr_acc=0.9465.pt', '/ssd/zhuang/code/FunASR/examples/ChineseCorrection/tb_logs/stage_1/version_0/checkpoints/epoch=97-val_loss=7.5525-val_asr_acc=0.9477.pt', '/ssd/zhuang/code/FunASR/examples/ChineseCorrection/tb_logs/stage_1/version_0/checkpoints/epoch=95-val_loss=7.6161-val_asr_acc=0.9472.pt', '/ssd/zhuang/code/FunASR/examples/ChineseCorrection/tb_logs/stage_1/version_0/checkpoints/epoch=98-val_loss=7.5216-val_asr_acc=0.9480.pt', '/ssd/zhuang/code/FunASR/examples/ChineseCorrection/tb_logs/stage_1/version_0/checkpoints/epoch=96-val_loss=7.5840-val_asr_acc=0.9475.pt', '/ssd/zhuang/code/FunASR/examples/ChineseCorrection/tb_logs/stage_1/version_0/checkpoints/epoch=94-val_loss=7.6488-val_asr_acc=0.9470.pt', '/ssd/zhuang/code/FunASR/examples/ChineseCorrection/tb_logs/stage_1/version_0/checkpoints/epoch=93-val_loss=7.6823-val_asr_acc=0.9467.pt']\n"
     ]
    },
    {
     "data": {
      "text/plain": [
       "'/ssd/zhuang/code/FunASR/examples/ChineseCorrection/tb_logs/stage_1/version_0/checkpoints/model.pt.avg10'"
      ]
     },
     "execution_count": 11,
     "metadata": {},
     "output_type": "execute_result"
    }
   ],
   "execution_count": 11
  },
  {
   "metadata": {},
   "cell_type": "code",
   "outputs": [],
   "execution_count": null,
   "source": "",
   "id": "f79f89cc5114fc41"
  }
 ],
 "metadata": {
  "kernelspec": {
   "display_name": "Python 3",
   "language": "python",
   "name": "python3"
  },
  "language_info": {
   "codemirror_mode": {
    "name": "ipython",
    "version": 2
   },
   "file_extension": ".py",
   "mimetype": "text/x-python",
   "name": "python",
   "nbconvert_exporter": "python",
   "pygments_lexer": "ipython2",
   "version": "2.7.6"
  }
 },
 "nbformat": 4,
 "nbformat_minor": 5
}
