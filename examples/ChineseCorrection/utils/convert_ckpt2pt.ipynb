{
 "cells": [
  {
   "cell_type": "code",
   "id": "initial_id",
   "metadata": {
    "collapsed": true,
    "ExecuteTime": {
     "end_time": "2024-11-15T04:54:04.863903Z",
     "start_time": "2024-11-15T04:54:03.353428Z"
    }
   },
   "source": "import torch",
   "outputs": [],
   "execution_count": 1
  },
  {
   "metadata": {
    "ExecuteTime": {
     "end_time": "2024-11-15T04:54:11.981170Z",
     "start_time": "2024-11-15T04:54:07.388766Z"
    }
   },
   "cell_type": "code",
   "source": [
    "org_model_path = (\"/ssd/zhuang/code/FunASR/examples/ChineseCorrection/tb_logs/stage_2/epoch=23-val_loss=0.9438-val_asr_acc=0.9873.ckpt\")\n",
    "model = torch.load(org_model_path, map_location='cpu')['state_dict']\n",
    "pt_model = {}\n",
    "for k, v in model.items():\n",
    "    pt_model[k.replace('model.', '')] = v\n",
    "save_path = org_model_path.replace('.ckpt', '.pt')\n",
    "torch.save(pt_model, save_path)"
   ],
   "id": "1b50062b3d9e032e",
   "outputs": [
    {
     "name": "stderr",
     "output_type": "stream",
     "text": [
      "/tmp/ipykernel_3069944/3621636953.py:2: FutureWarning: You are using `torch.load` with `weights_only=False` (the current default value), which uses the default pickle module implicitly. It is possible to construct malicious pickle data which will execute arbitrary code during unpickling (See https://github.com/pytorch/pytorch/blob/main/SECURITY.md#untrusted-models for more details). In a future release, the default value for `weights_only` will be flipped to `True`. This limits the functions that could be executed during unpickling. Arbitrary objects will no longer be allowed to be loaded via this mode unless they are explicitly allowlisted by the user via `torch.serialization.add_safe_globals`. We recommend you start setting `weights_only=True` for any use case where you don't have full control of the loaded file. Please open an issue on GitHub for any issues related to this experimental feature.\n",
      "  model = torch.load(org_model_path, map_location='cpu')['state_dict']\n"
     ]
    }
   ],
   "execution_count": 2
  },
  {
   "metadata": {
    "ExecuteTime": {
     "end_time": "2024-11-06T03:14:56.250439Z",
     "start_time": "2024-11-06T03:14:56.240407Z"
    }
   },
   "cell_type": "code",
   "source": "pt_model.keys()",
   "id": "81ca5609e3638b3",
   "outputs": [
    {
     "data": {
      "text/plain": [
       "dict_keys(['encoder.embed.0.weight', 'encoder.encoders.0.self_attn.linear_q.weight', 'encoder.encoders.0.self_attn.linear_q.bias', 'encoder.encoders.0.self_attn.linear_k.weight', 'encoder.encoders.0.self_attn.linear_k.bias', 'encoder.encoders.0.self_attn.linear_v.weight', 'encoder.encoders.0.self_attn.linear_v.bias', 'encoder.encoders.0.self_attn.linear_out.weight', 'encoder.encoders.0.self_attn.linear_out.bias', 'encoder.encoders.0.feed_forward.w_1.weight', 'encoder.encoders.0.feed_forward.w_1.bias', 'encoder.encoders.0.feed_forward.w_2.weight', 'encoder.encoders.0.feed_forward.w_2.bias', 'encoder.encoders.0.norm1.weight', 'encoder.encoders.0.norm1.bias', 'encoder.encoders.0.norm2.weight', 'encoder.encoders.0.norm2.bias', 'encoder.encoders.1.self_attn.linear_q.weight', 'encoder.encoders.1.self_attn.linear_q.bias', 'encoder.encoders.1.self_attn.linear_k.weight', 'encoder.encoders.1.self_attn.linear_k.bias', 'encoder.encoders.1.self_attn.linear_v.weight', 'encoder.encoders.1.self_attn.linear_v.bias', 'encoder.encoders.1.self_attn.linear_out.weight', 'encoder.encoders.1.self_attn.linear_out.bias', 'encoder.encoders.1.feed_forward.w_1.weight', 'encoder.encoders.1.feed_forward.w_1.bias', 'encoder.encoders.1.feed_forward.w_2.weight', 'encoder.encoders.1.feed_forward.w_2.bias', 'encoder.encoders.1.norm1.weight', 'encoder.encoders.1.norm1.bias', 'encoder.encoders.1.norm2.weight', 'encoder.encoders.1.norm2.bias', 'encoder.encoders.2.self_attn.linear_q.weight', 'encoder.encoders.2.self_attn.linear_q.bias', 'encoder.encoders.2.self_attn.linear_k.weight', 'encoder.encoders.2.self_attn.linear_k.bias', 'encoder.encoders.2.self_attn.linear_v.weight', 'encoder.encoders.2.self_attn.linear_v.bias', 'encoder.encoders.2.self_attn.linear_out.weight', 'encoder.encoders.2.self_attn.linear_out.bias', 'encoder.encoders.2.feed_forward.w_1.weight', 'encoder.encoders.2.feed_forward.w_1.bias', 'encoder.encoders.2.feed_forward.w_2.weight', 'encoder.encoders.2.feed_forward.w_2.bias', 'encoder.encoders.2.norm1.weight', 'encoder.encoders.2.norm1.bias', 'encoder.encoders.2.norm2.weight', 'encoder.encoders.2.norm2.bias', 'encoder.encoders.3.self_attn.linear_q.weight', 'encoder.encoders.3.self_attn.linear_q.bias', 'encoder.encoders.3.self_attn.linear_k.weight', 'encoder.encoders.3.self_attn.linear_k.bias', 'encoder.encoders.3.self_attn.linear_v.weight', 'encoder.encoders.3.self_attn.linear_v.bias', 'encoder.encoders.3.self_attn.linear_out.weight', 'encoder.encoders.3.self_attn.linear_out.bias', 'encoder.encoders.3.feed_forward.w_1.weight', 'encoder.encoders.3.feed_forward.w_1.bias', 'encoder.encoders.3.feed_forward.w_2.weight', 'encoder.encoders.3.feed_forward.w_2.bias', 'encoder.encoders.3.norm1.weight', 'encoder.encoders.3.norm1.bias', 'encoder.encoders.3.norm2.weight', 'encoder.encoders.3.norm2.bias', 'encoder.after_norm.weight', 'encoder.after_norm.bias', 'decoder.embed.0.weight', 'decoder.after_norm.weight', 'decoder.after_norm.bias', 'decoder.output_layer.weight', 'decoder.output_layer.bias', 'decoder.decoders.0.self_attn.linear_q.weight', 'decoder.decoders.0.self_attn.linear_q.bias', 'decoder.decoders.0.self_attn.linear_k.weight', 'decoder.decoders.0.self_attn.linear_k.bias', 'decoder.decoders.0.self_attn.linear_v.weight', 'decoder.decoders.0.self_attn.linear_v.bias', 'decoder.decoders.0.self_attn.linear_out.weight', 'decoder.decoders.0.self_attn.linear_out.bias', 'decoder.decoders.0.src_attn.linear_q.weight', 'decoder.decoders.0.src_attn.linear_q.bias', 'decoder.decoders.0.src_attn.linear_k.weight', 'decoder.decoders.0.src_attn.linear_k.bias', 'decoder.decoders.0.src_attn.linear_v.weight', 'decoder.decoders.0.src_attn.linear_v.bias', 'decoder.decoders.0.src_attn.linear_out.weight', 'decoder.decoders.0.src_attn.linear_out.bias', 'decoder.decoders.0.feed_forward.w_1.weight', 'decoder.decoders.0.feed_forward.w_1.bias', 'decoder.decoders.0.feed_forward.w_2.weight', 'decoder.decoders.0.feed_forward.w_2.bias', 'decoder.decoders.0.norm1.weight', 'decoder.decoders.0.norm1.bias', 'decoder.decoders.0.norm2.weight', 'decoder.decoders.0.norm2.bias', 'decoder.decoders.0.norm3.weight', 'decoder.decoders.0.norm3.bias', 'decoder.decoders.1.self_attn.linear_q.weight', 'decoder.decoders.1.self_attn.linear_q.bias', 'decoder.decoders.1.self_attn.linear_k.weight', 'decoder.decoders.1.self_attn.linear_k.bias', 'decoder.decoders.1.self_attn.linear_v.weight', 'decoder.decoders.1.self_attn.linear_v.bias', 'decoder.decoders.1.self_attn.linear_out.weight', 'decoder.decoders.1.self_attn.linear_out.bias', 'decoder.decoders.1.src_attn.linear_q.weight', 'decoder.decoders.1.src_attn.linear_q.bias', 'decoder.decoders.1.src_attn.linear_k.weight', 'decoder.decoders.1.src_attn.linear_k.bias', 'decoder.decoders.1.src_attn.linear_v.weight', 'decoder.decoders.1.src_attn.linear_v.bias', 'decoder.decoders.1.src_attn.linear_out.weight', 'decoder.decoders.1.src_attn.linear_out.bias', 'decoder.decoders.1.feed_forward.w_1.weight', 'decoder.decoders.1.feed_forward.w_1.bias', 'decoder.decoders.1.feed_forward.w_2.weight', 'decoder.decoders.1.feed_forward.w_2.bias', 'decoder.decoders.1.norm1.weight', 'decoder.decoders.1.norm1.bias', 'decoder.decoders.1.norm2.weight', 'decoder.decoders.1.norm2.bias', 'decoder.decoders.1.norm3.weight', 'decoder.decoders.1.norm3.bias', 'decoder.decoders.2.self_attn.linear_q.weight', 'decoder.decoders.2.self_attn.linear_q.bias', 'decoder.decoders.2.self_attn.linear_k.weight', 'decoder.decoders.2.self_attn.linear_k.bias', 'decoder.decoders.2.self_attn.linear_v.weight', 'decoder.decoders.2.self_attn.linear_v.bias', 'decoder.decoders.2.self_attn.linear_out.weight', 'decoder.decoders.2.self_attn.linear_out.bias', 'decoder.decoders.2.src_attn.linear_q.weight', 'decoder.decoders.2.src_attn.linear_q.bias', 'decoder.decoders.2.src_attn.linear_k.weight', 'decoder.decoders.2.src_attn.linear_k.bias', 'decoder.decoders.2.src_attn.linear_v.weight', 'decoder.decoders.2.src_attn.linear_v.bias', 'decoder.decoders.2.src_attn.linear_out.weight', 'decoder.decoders.2.src_attn.linear_out.bias', 'decoder.decoders.2.feed_forward.w_1.weight', 'decoder.decoders.2.feed_forward.w_1.bias', 'decoder.decoders.2.feed_forward.w_2.weight', 'decoder.decoders.2.feed_forward.w_2.bias', 'decoder.decoders.2.norm1.weight', 'decoder.decoders.2.norm1.bias', 'decoder.decoders.2.norm2.weight', 'decoder.decoders.2.norm2.bias', 'decoder.decoders.2.norm3.weight', 'decoder.decoders.2.norm3.bias', 'decoder.decoders.3.self_attn.linear_q.weight', 'decoder.decoders.3.self_attn.linear_q.bias', 'decoder.decoders.3.self_attn.linear_k.weight', 'decoder.decoders.3.self_attn.linear_k.bias', 'decoder.decoders.3.self_attn.linear_v.weight', 'decoder.decoders.3.self_attn.linear_v.bias', 'decoder.decoders.3.self_attn.linear_out.weight', 'decoder.decoders.3.self_attn.linear_out.bias', 'decoder.decoders.3.src_attn.linear_q.weight', 'decoder.decoders.3.src_attn.linear_q.bias', 'decoder.decoders.3.src_attn.linear_k.weight', 'decoder.decoders.3.src_attn.linear_k.bias', 'decoder.decoders.3.src_attn.linear_v.weight', 'decoder.decoders.3.src_attn.linear_v.bias', 'decoder.decoders.3.src_attn.linear_out.weight', 'decoder.decoders.3.src_attn.linear_out.bias', 'decoder.decoders.3.feed_forward.w_1.weight', 'decoder.decoders.3.feed_forward.w_1.bias', 'decoder.decoders.3.feed_forward.w_2.weight', 'decoder.decoders.3.feed_forward.w_2.bias', 'decoder.decoders.3.norm1.weight', 'decoder.decoders.3.norm1.bias', 'decoder.decoders.3.norm2.weight', 'decoder.decoders.3.norm2.bias', 'decoder.decoders.3.norm3.weight', 'decoder.decoders.3.norm3.bias', 'decoder.decoders.4.self_attn.linear_q.weight', 'decoder.decoders.4.self_attn.linear_q.bias', 'decoder.decoders.4.self_attn.linear_k.weight', 'decoder.decoders.4.self_attn.linear_k.bias', 'decoder.decoders.4.self_attn.linear_v.weight', 'decoder.decoders.4.self_attn.linear_v.bias', 'decoder.decoders.4.self_attn.linear_out.weight', 'decoder.decoders.4.self_attn.linear_out.bias', 'decoder.decoders.4.src_attn.linear_q.weight', 'decoder.decoders.4.src_attn.linear_q.bias', 'decoder.decoders.4.src_attn.linear_k.weight', 'decoder.decoders.4.src_attn.linear_k.bias', 'decoder.decoders.4.src_attn.linear_v.weight', 'decoder.decoders.4.src_attn.linear_v.bias', 'decoder.decoders.4.src_attn.linear_out.weight', 'decoder.decoders.4.src_attn.linear_out.bias', 'decoder.decoders.4.feed_forward.w_1.weight', 'decoder.decoders.4.feed_forward.w_1.bias', 'decoder.decoders.4.feed_forward.w_2.weight', 'decoder.decoders.4.feed_forward.w_2.bias', 'decoder.decoders.4.norm1.weight', 'decoder.decoders.4.norm1.bias', 'decoder.decoders.4.norm2.weight', 'decoder.decoders.4.norm2.bias', 'decoder.decoders.4.norm3.weight', 'decoder.decoders.4.norm3.bias', 'decoder.decoders.5.self_attn.linear_q.weight', 'decoder.decoders.5.self_attn.linear_q.bias', 'decoder.decoders.5.self_attn.linear_k.weight', 'decoder.decoders.5.self_attn.linear_k.bias', 'decoder.decoders.5.self_attn.linear_v.weight', 'decoder.decoders.5.self_attn.linear_v.bias', 'decoder.decoders.5.self_attn.linear_out.weight', 'decoder.decoders.5.self_attn.linear_out.bias', 'decoder.decoders.5.src_attn.linear_q.weight', 'decoder.decoders.5.src_attn.linear_q.bias', 'decoder.decoders.5.src_attn.linear_k.weight', 'decoder.decoders.5.src_attn.linear_k.bias', 'decoder.decoders.5.src_attn.linear_v.weight', 'decoder.decoders.5.src_attn.linear_v.bias', 'decoder.decoders.5.src_attn.linear_out.weight', 'decoder.decoders.5.src_attn.linear_out.bias', 'decoder.decoders.5.feed_forward.w_1.weight', 'decoder.decoders.5.feed_forward.w_1.bias', 'decoder.decoders.5.feed_forward.w_2.weight', 'decoder.decoders.5.feed_forward.w_2.bias', 'decoder.decoders.5.norm1.weight', 'decoder.decoders.5.norm1.bias', 'decoder.decoders.5.norm2.weight', 'decoder.decoders.5.norm2.bias', 'decoder.decoders.5.norm3.weight', 'decoder.decoders.5.norm3.bias', 'ctc.ctc_lo.weight', 'ctc.ctc_lo.bias'])"
      ]
     },
     "execution_count": 16,
     "metadata": {},
     "output_type": "execute_result"
    }
   ],
   "execution_count": 16
  },
  {
   "metadata": {
    "ExecuteTime": {
     "end_time": "2024-11-08T08:39:30.461084Z",
     "start_time": "2024-11-08T08:39:26.276883Z"
    }
   },
   "cell_type": "code",
   "source": [
    "org_model_path = (\"/ssd/zhuang/code/FunASR/examples/ChineseCorrection/save/pny_lm/version_0/checkpoints/epoch=50-val_loss=10.2522-val_asr_acc=0.9268.ckpt\")\n",
    "model = torch.load(org_model_path, map_location='cpu')['state_dict']\n",
    "pt_model = {}\n",
    "for k, v in model.items():\n",
    "    name = k.replace('model.', '')\n",
    "    if \"decoder.\" in name:\n",
    "        name = name.replace(\"decoder.\", \"text_decoder.\")\n",
    "    if \"encoder.\" in name:\n",
    "        name = name.replace(\"encoder.\", \"text_encoder.\")\n",
    "    if \"ctc.\" in name:\n",
    "        name = name.replace(\"ctc.\", \"text_ctc.\")\n",
    "    pt_model[name] = v\n",
    "save_path= \"/ssd/zhuang/code/FunASR/examples/aishell/text_conformer/data/pretrain_text_module/pretrain_text_module_2.pt\"\n",
    "torch.save(pt_model, save_path)"
   ],
   "id": "c5633bcb241fb3fd",
   "outputs": [
    {
     "name": "stderr",
     "output_type": "stream",
     "text": [
      "/tmp/ipykernel_3770572/3731660099.py:2: FutureWarning: You are using `torch.load` with `weights_only=False` (the current default value), which uses the default pickle module implicitly. It is possible to construct malicious pickle data which will execute arbitrary code during unpickling (See https://github.com/pytorch/pytorch/blob/main/SECURITY.md#untrusted-models for more details). In a future release, the default value for `weights_only` will be flipped to `True`. This limits the functions that could be executed during unpickling. Arbitrary objects will no longer be allowed to be loaded via this mode unless they are explicitly allowlisted by the user via `torch.serialization.add_safe_globals`. We recommend you start setting `weights_only=True` for any use case where you don't have full control of the loaded file. Please open an issue on GitHub for any issues related to this experimental feature.\n",
      "  model = torch.load(org_model_path, map_location='cpu')['state_dict']\n"
     ]
    }
   ],
   "execution_count": 3
  },
  {
   "metadata": {
    "ExecuteTime": {
     "end_time": "2024-11-08T08:39:31.935813Z",
     "start_time": "2024-11-08T08:39:31.923610Z"
    }
   },
   "cell_type": "code",
   "source": "pt_model.keys()",
   "id": "f869e97560221b64",
   "outputs": [
    {
     "data": {
      "text/plain": [
       "dict_keys(['text_encoder.embed.0.weight', 'text_encoder.encoders.0.self_attn.linear_q.weight', 'text_encoder.encoders.0.self_attn.linear_q.bias', 'text_encoder.encoders.0.self_attn.linear_k.weight', 'text_encoder.encoders.0.self_attn.linear_k.bias', 'text_encoder.encoders.0.self_attn.linear_v.weight', 'text_encoder.encoders.0.self_attn.linear_v.bias', 'text_encoder.encoders.0.self_attn.linear_out.weight', 'text_encoder.encoders.0.self_attn.linear_out.bias', 'text_encoder.encoders.0.feed_forward.w_1.weight', 'text_encoder.encoders.0.feed_forward.w_1.bias', 'text_encoder.encoders.0.feed_forward.w_2.weight', 'text_encoder.encoders.0.feed_forward.w_2.bias', 'text_encoder.encoders.0.norm1.weight', 'text_encoder.encoders.0.norm1.bias', 'text_encoder.encoders.0.norm2.weight', 'text_encoder.encoders.0.norm2.bias', 'text_encoder.encoders.1.self_attn.linear_q.weight', 'text_encoder.encoders.1.self_attn.linear_q.bias', 'text_encoder.encoders.1.self_attn.linear_k.weight', 'text_encoder.encoders.1.self_attn.linear_k.bias', 'text_encoder.encoders.1.self_attn.linear_v.weight', 'text_encoder.encoders.1.self_attn.linear_v.bias', 'text_encoder.encoders.1.self_attn.linear_out.weight', 'text_encoder.encoders.1.self_attn.linear_out.bias', 'text_encoder.encoders.1.feed_forward.w_1.weight', 'text_encoder.encoders.1.feed_forward.w_1.bias', 'text_encoder.encoders.1.feed_forward.w_2.weight', 'text_encoder.encoders.1.feed_forward.w_2.bias', 'text_encoder.encoders.1.norm1.weight', 'text_encoder.encoders.1.norm1.bias', 'text_encoder.encoders.1.norm2.weight', 'text_encoder.encoders.1.norm2.bias', 'text_encoder.encoders.2.self_attn.linear_q.weight', 'text_encoder.encoders.2.self_attn.linear_q.bias', 'text_encoder.encoders.2.self_attn.linear_k.weight', 'text_encoder.encoders.2.self_attn.linear_k.bias', 'text_encoder.encoders.2.self_attn.linear_v.weight', 'text_encoder.encoders.2.self_attn.linear_v.bias', 'text_encoder.encoders.2.self_attn.linear_out.weight', 'text_encoder.encoders.2.self_attn.linear_out.bias', 'text_encoder.encoders.2.feed_forward.w_1.weight', 'text_encoder.encoders.2.feed_forward.w_1.bias', 'text_encoder.encoders.2.feed_forward.w_2.weight', 'text_encoder.encoders.2.feed_forward.w_2.bias', 'text_encoder.encoders.2.norm1.weight', 'text_encoder.encoders.2.norm1.bias', 'text_encoder.encoders.2.norm2.weight', 'text_encoder.encoders.2.norm2.bias', 'text_encoder.encoders.3.self_attn.linear_q.weight', 'text_encoder.encoders.3.self_attn.linear_q.bias', 'text_encoder.encoders.3.self_attn.linear_k.weight', 'text_encoder.encoders.3.self_attn.linear_k.bias', 'text_encoder.encoders.3.self_attn.linear_v.weight', 'text_encoder.encoders.3.self_attn.linear_v.bias', 'text_encoder.encoders.3.self_attn.linear_out.weight', 'text_encoder.encoders.3.self_attn.linear_out.bias', 'text_encoder.encoders.3.feed_forward.w_1.weight', 'text_encoder.encoders.3.feed_forward.w_1.bias', 'text_encoder.encoders.3.feed_forward.w_2.weight', 'text_encoder.encoders.3.feed_forward.w_2.bias', 'text_encoder.encoders.3.norm1.weight', 'text_encoder.encoders.3.norm1.bias', 'text_encoder.encoders.3.norm2.weight', 'text_encoder.encoders.3.norm2.bias', 'text_encoder.after_norm.weight', 'text_encoder.after_norm.bias', 'text_decoder.embed.0.weight', 'text_decoder.after_norm.weight', 'text_decoder.after_norm.bias', 'text_decoder.output_layer.weight', 'text_decoder.output_layer.bias', 'text_decoder.decoders.0.self_attn.linear_q.weight', 'text_decoder.decoders.0.self_attn.linear_q.bias', 'text_decoder.decoders.0.self_attn.linear_k.weight', 'text_decoder.decoders.0.self_attn.linear_k.bias', 'text_decoder.decoders.0.self_attn.linear_v.weight', 'text_decoder.decoders.0.self_attn.linear_v.bias', 'text_decoder.decoders.0.self_attn.linear_out.weight', 'text_decoder.decoders.0.self_attn.linear_out.bias', 'text_decoder.decoders.0.src_attn.linear_q.weight', 'text_decoder.decoders.0.src_attn.linear_q.bias', 'text_decoder.decoders.0.src_attn.linear_k.weight', 'text_decoder.decoders.0.src_attn.linear_k.bias', 'text_decoder.decoders.0.src_attn.linear_v.weight', 'text_decoder.decoders.0.src_attn.linear_v.bias', 'text_decoder.decoders.0.src_attn.linear_out.weight', 'text_decoder.decoders.0.src_attn.linear_out.bias', 'text_decoder.decoders.0.feed_forward.w_1.weight', 'text_decoder.decoders.0.feed_forward.w_1.bias', 'text_decoder.decoders.0.feed_forward.w_2.weight', 'text_decoder.decoders.0.feed_forward.w_2.bias', 'text_decoder.decoders.0.norm1.weight', 'text_decoder.decoders.0.norm1.bias', 'text_decoder.decoders.0.norm2.weight', 'text_decoder.decoders.0.norm2.bias', 'text_decoder.decoders.0.norm3.weight', 'text_decoder.decoders.0.norm3.bias', 'text_decoder.decoders.1.self_attn.linear_q.weight', 'text_decoder.decoders.1.self_attn.linear_q.bias', 'text_decoder.decoders.1.self_attn.linear_k.weight', 'text_decoder.decoders.1.self_attn.linear_k.bias', 'text_decoder.decoders.1.self_attn.linear_v.weight', 'text_decoder.decoders.1.self_attn.linear_v.bias', 'text_decoder.decoders.1.self_attn.linear_out.weight', 'text_decoder.decoders.1.self_attn.linear_out.bias', 'text_decoder.decoders.1.src_attn.linear_q.weight', 'text_decoder.decoders.1.src_attn.linear_q.bias', 'text_decoder.decoders.1.src_attn.linear_k.weight', 'text_decoder.decoders.1.src_attn.linear_k.bias', 'text_decoder.decoders.1.src_attn.linear_v.weight', 'text_decoder.decoders.1.src_attn.linear_v.bias', 'text_decoder.decoders.1.src_attn.linear_out.weight', 'text_decoder.decoders.1.src_attn.linear_out.bias', 'text_decoder.decoders.1.feed_forward.w_1.weight', 'text_decoder.decoders.1.feed_forward.w_1.bias', 'text_decoder.decoders.1.feed_forward.w_2.weight', 'text_decoder.decoders.1.feed_forward.w_2.bias', 'text_decoder.decoders.1.norm1.weight', 'text_decoder.decoders.1.norm1.bias', 'text_decoder.decoders.1.norm2.weight', 'text_decoder.decoders.1.norm2.bias', 'text_decoder.decoders.1.norm3.weight', 'text_decoder.decoders.1.norm3.bias', 'text_decoder.decoders.2.self_attn.linear_q.weight', 'text_decoder.decoders.2.self_attn.linear_q.bias', 'text_decoder.decoders.2.self_attn.linear_k.weight', 'text_decoder.decoders.2.self_attn.linear_k.bias', 'text_decoder.decoders.2.self_attn.linear_v.weight', 'text_decoder.decoders.2.self_attn.linear_v.bias', 'text_decoder.decoders.2.self_attn.linear_out.weight', 'text_decoder.decoders.2.self_attn.linear_out.bias', 'text_decoder.decoders.2.src_attn.linear_q.weight', 'text_decoder.decoders.2.src_attn.linear_q.bias', 'text_decoder.decoders.2.src_attn.linear_k.weight', 'text_decoder.decoders.2.src_attn.linear_k.bias', 'text_decoder.decoders.2.src_attn.linear_v.weight', 'text_decoder.decoders.2.src_attn.linear_v.bias', 'text_decoder.decoders.2.src_attn.linear_out.weight', 'text_decoder.decoders.2.src_attn.linear_out.bias', 'text_decoder.decoders.2.feed_forward.w_1.weight', 'text_decoder.decoders.2.feed_forward.w_1.bias', 'text_decoder.decoders.2.feed_forward.w_2.weight', 'text_decoder.decoders.2.feed_forward.w_2.bias', 'text_decoder.decoders.2.norm1.weight', 'text_decoder.decoders.2.norm1.bias', 'text_decoder.decoders.2.norm2.weight', 'text_decoder.decoders.2.norm2.bias', 'text_decoder.decoders.2.norm3.weight', 'text_decoder.decoders.2.norm3.bias', 'text_decoder.decoders.3.self_attn.linear_q.weight', 'text_decoder.decoders.3.self_attn.linear_q.bias', 'text_decoder.decoders.3.self_attn.linear_k.weight', 'text_decoder.decoders.3.self_attn.linear_k.bias', 'text_decoder.decoders.3.self_attn.linear_v.weight', 'text_decoder.decoders.3.self_attn.linear_v.bias', 'text_decoder.decoders.3.self_attn.linear_out.weight', 'text_decoder.decoders.3.self_attn.linear_out.bias', 'text_decoder.decoders.3.src_attn.linear_q.weight', 'text_decoder.decoders.3.src_attn.linear_q.bias', 'text_decoder.decoders.3.src_attn.linear_k.weight', 'text_decoder.decoders.3.src_attn.linear_k.bias', 'text_decoder.decoders.3.src_attn.linear_v.weight', 'text_decoder.decoders.3.src_attn.linear_v.bias', 'text_decoder.decoders.3.src_attn.linear_out.weight', 'text_decoder.decoders.3.src_attn.linear_out.bias', 'text_decoder.decoders.3.feed_forward.w_1.weight', 'text_decoder.decoders.3.feed_forward.w_1.bias', 'text_decoder.decoders.3.feed_forward.w_2.weight', 'text_decoder.decoders.3.feed_forward.w_2.bias', 'text_decoder.decoders.3.norm1.weight', 'text_decoder.decoders.3.norm1.bias', 'text_decoder.decoders.3.norm2.weight', 'text_decoder.decoders.3.norm2.bias', 'text_decoder.decoders.3.norm3.weight', 'text_decoder.decoders.3.norm3.bias', 'text_decoder.decoders.4.self_attn.linear_q.weight', 'text_decoder.decoders.4.self_attn.linear_q.bias', 'text_decoder.decoders.4.self_attn.linear_k.weight', 'text_decoder.decoders.4.self_attn.linear_k.bias', 'text_decoder.decoders.4.self_attn.linear_v.weight', 'text_decoder.decoders.4.self_attn.linear_v.bias', 'text_decoder.decoders.4.self_attn.linear_out.weight', 'text_decoder.decoders.4.self_attn.linear_out.bias', 'text_decoder.decoders.4.src_attn.linear_q.weight', 'text_decoder.decoders.4.src_attn.linear_q.bias', 'text_decoder.decoders.4.src_attn.linear_k.weight', 'text_decoder.decoders.4.src_attn.linear_k.bias', 'text_decoder.decoders.4.src_attn.linear_v.weight', 'text_decoder.decoders.4.src_attn.linear_v.bias', 'text_decoder.decoders.4.src_attn.linear_out.weight', 'text_decoder.decoders.4.src_attn.linear_out.bias', 'text_decoder.decoders.4.feed_forward.w_1.weight', 'text_decoder.decoders.4.feed_forward.w_1.bias', 'text_decoder.decoders.4.feed_forward.w_2.weight', 'text_decoder.decoders.4.feed_forward.w_2.bias', 'text_decoder.decoders.4.norm1.weight', 'text_decoder.decoders.4.norm1.bias', 'text_decoder.decoders.4.norm2.weight', 'text_decoder.decoders.4.norm2.bias', 'text_decoder.decoders.4.norm3.weight', 'text_decoder.decoders.4.norm3.bias', 'text_decoder.decoders.5.self_attn.linear_q.weight', 'text_decoder.decoders.5.self_attn.linear_q.bias', 'text_decoder.decoders.5.self_attn.linear_k.weight', 'text_decoder.decoders.5.self_attn.linear_k.bias', 'text_decoder.decoders.5.self_attn.linear_v.weight', 'text_decoder.decoders.5.self_attn.linear_v.bias', 'text_decoder.decoders.5.self_attn.linear_out.weight', 'text_decoder.decoders.5.self_attn.linear_out.bias', 'text_decoder.decoders.5.src_attn.linear_q.weight', 'text_decoder.decoders.5.src_attn.linear_q.bias', 'text_decoder.decoders.5.src_attn.linear_k.weight', 'text_decoder.decoders.5.src_attn.linear_k.bias', 'text_decoder.decoders.5.src_attn.linear_v.weight', 'text_decoder.decoders.5.src_attn.linear_v.bias', 'text_decoder.decoders.5.src_attn.linear_out.weight', 'text_decoder.decoders.5.src_attn.linear_out.bias', 'text_decoder.decoders.5.feed_forward.w_1.weight', 'text_decoder.decoders.5.feed_forward.w_1.bias', 'text_decoder.decoders.5.feed_forward.w_2.weight', 'text_decoder.decoders.5.feed_forward.w_2.bias', 'text_decoder.decoders.5.norm1.weight', 'text_decoder.decoders.5.norm1.bias', 'text_decoder.decoders.5.norm2.weight', 'text_decoder.decoders.5.norm2.bias', 'text_decoder.decoders.5.norm3.weight', 'text_decoder.decoders.5.norm3.bias', 'text_ctc.ctc_lo.weight', 'text_ctc.ctc_lo.bias'])"
      ]
     },
     "execution_count": 4,
     "metadata": {},
     "output_type": "execute_result"
    }
   ],
   "execution_count": 4
  },
  {
   "metadata": {},
   "cell_type": "code",
   "outputs": [],
   "execution_count": null,
   "source": "",
   "id": "7b95f116e1709829"
  }
 ],
 "metadata": {
  "kernelspec": {
   "display_name": "Python 3",
   "language": "python",
   "name": "python3"
  },
  "language_info": {
   "codemirror_mode": {
    "name": "ipython",
    "version": 2
   },
   "file_extension": ".py",
   "mimetype": "text/x-python",
   "name": "python",
   "nbconvert_exporter": "python",
   "pygments_lexer": "ipython2",
   "version": "2.7.6"
  }
 },
 "nbformat": 4,
 "nbformat_minor": 5
}
