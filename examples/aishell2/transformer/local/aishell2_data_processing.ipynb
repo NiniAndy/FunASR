{
 "cells": [
  {
   "cell_type": "code",
   "execution_count": 32,
   "metadata": {},
   "outputs": [],
   "source": [
    "import os\n",
    "import tqdm\n",
    "\n",
    "raw_data=\"/data/nas/ASR_Datasets/data_aishell2/\"\n",
    "\n",
    "train_data_path=os.path.join(raw_data,\"data_aishell2\")\n",
    "train_wav_path=os.path.join(train_data_path,\"wav\")\n",
    "train_txt_path=os.path.join(train_data_path,\"transcript/trans.txt\")\n",
    "\n",
    "outpath=\"/ssd/zhuang/code/FunASR2024_for_debug/examples/aishell2/DATA/mydata\"\n",
    "os.makedirs(outpath,exist_ok=True)"
   ]
  },
  {
   "cell_type": "markdown",
   "metadata": {},
   "source": [
    "### 读取train  wav文件"
   ]
  },
  {
   "cell_type": "code",
   "execution_count": 2,
   "metadata": {},
   "outputs": [
    {
     "name": "stdout",
     "output_type": "stream",
     "text": [
      "Done! Find the train wav length is 1009223\n"
     ]
    }
   ],
   "source": [
    "train_wav_list=[]\n",
    "for root, dirs, files in os.walk(train_wav_path):\n",
    "    for file in files:\n",
    "        if file.endswith(\".wav\"):\n",
    "            full_path = os.path.join(root, file)\n",
    "            train_wav_list.append(full_path)\n",
    "print (\"Done! Find the train wav length is\",len(train_wav_list))"
   ]
  },
  {
   "cell_type": "markdown",
   "metadata": {},
   "source": [
    "### 构建id2wav字典"
   ]
  },
  {
   "cell_type": "code",
   "execution_count": 21,
   "metadata": {},
   "outputs": [
    {
     "name": "stdout",
     "output_type": "stream",
     "text": [
      "Done!\n"
     ]
    }
   ],
   "source": [
    "id2wav = {}\n",
    "for wav in train_wav_list:\n",
    "    id = wav.split(\"/\")[-1].split(\".\")[0]\n",
    "    id2wav[id] = wav\n",
    "print (\"Done!\")"
   ]
  },
  {
   "cell_type": "markdown",
   "metadata": {},
   "source": [
    "### 读取train txt文件"
   ]
  },
  {
   "cell_type": "code",
   "execution_count": 20,
   "metadata": {},
   "outputs": [
    {
     "name": "stdout",
     "output_type": "stream",
     "text": [
      "Done! Find the train txt length is 1009223\n"
     ]
    }
   ],
   "source": [
    "id2text = {}\n",
    "with open(train_txt_path, 'r', encoding='utf-8') as file:\n",
    "    lines = file.readlines()\n",
    "    lines = [line.strip() for line in lines]  # 清理每行的首尾空白字符\n",
    "for l in lines:\n",
    "    id, txt = l.strip().split(\"\t\")\n",
    "    id2text[id] = txt\n",
    "print (\"Done! Find the train txt length is\",len(lines))"
   ]
  },
  {
   "cell_type": "markdown",
   "metadata": {},
   "source": [
    "### 配对id-wav-text"
   ]
  },
  {
   "cell_type": "code",
   "execution_count": 28,
   "metadata": {},
   "outputs": [],
   "source": [
    "import re\n",
    "\n",
    "def contains_non_chinese(text):\n",
    "    # 正则表达式匹配非中文字符\n",
    "    non_chinese_pattern = re.compile(r'[^\\u4e00-\\u9fff]')\n",
    "    return non_chinese_pattern.search(text) is not None"
   ]
  },
  {
   "cell_type": "code",
   "execution_count": 30,
   "metadata": {},
   "outputs": [
    {
     "name": "stdout",
     "output_type": "stream",
     "text": [
      "Done! Find the train txt length is 962818\n"
     ]
    }
   ],
   "source": [
    "id2text_clean = {}\n",
    "id2wav_clean = {}\n",
    "for id, txt in id2text.items():\n",
    "    if contains_non_chinese(txt):\n",
    "        continue\n",
    "    else:\n",
    "        id2text_clean[id] = txt\n",
    "        id2wav_clean[id] = id2wav[id]\n",
    "\n",
    "id2text = id2text_clean\n",
    "id2wav = id2wav_clean\n",
    "if len(id2text) != len(id2wav):\n",
    "    print(\"Error: the number of wav files and text files is not equal!\")\n",
    "    exit(1)\n",
    "else:\n",
    "    print (\"Done! Find the train txt length is\",len(id2text))"
   ]
  },
  {
   "cell_type": "code",
   "execution_count": 34,
   "metadata": {},
   "outputs": [
    {
     "name": "stdout",
     "output_type": "stream",
     "text": [
      "Done!\n"
     ]
    }
   ],
   "source": [
    "train = os.path.join(outpath, \"train\")\n",
    "os.makedirs(train, exist_ok=True)\n",
    "\n",
    "trian_text = os.path.join(train, \"text\")\n",
    "trian_wav_scp = os.path.join(train, \"wav.scp\")\n",
    "\n",
    "with open(trian_text, 'w', encoding='utf-8') as file:\n",
    "    for id, txt in id2text.items():\n",
    "        file.write(id + \" \" + txt + \"\\n\")\n",
    "\n",
    "with open(trian_wav_scp, 'w', encoding='utf-8') as file:\n",
    "    for id, wav in id2wav.items():\n",
    "        file.write(id + \" \" + wav + \"\\n\")\n",
    "    \n",
    "print (\"Done!\")"
   ]
  },
  {
   "cell_type": "code",
   "execution_count": 25,
   "metadata": {},
   "outputs": [
    {
     "data": {
      "text/plain": [
       "True"
      ]
     },
     "execution_count": 25,
     "metadata": {},
     "output_type": "execute_result"
    }
   ],
   "source": [
    "len(id2text) == len(id2wav)"
   ]
  },
  {
   "cell_type": "markdown",
   "metadata": {},
   "source": [
    "### dev&test"
   ]
  },
  {
   "cell_type": "code",
   "execution_count": 35,
   "metadata": {},
   "outputs": [],
   "source": [
    "dt_raw_data=\"/data/nas/ASR_Datasets/data_aishell2/devNtest/\"\n",
    "\n",
    "device_list=[\"Android\",\"IOS\",\"MIC\"]\n",
    "type_list=[\"dev\",\"test\"]\n",
    "\n",
    "outpath=\"/ssd/zhuang/code/FunASR2024_for_debug/examples/aishell2/DATA/mydata\"\n",
    "os.makedirs(outpath,exist_ok=True)"
   ]
  },
  {
   "cell_type": "code",
   "execution_count": null,
   "metadata": {},
   "outputs": [],
   "source": [
    "for device in device_list:\n",
    "    for type in type_list:\n",
    "        data_path=os.path.join(dt_raw_data,device,type)\n",
    "        data_wav_path=os.path.join(data_path,\"wav\")\n",
    "        data_txt_path=os.path.join(data_path"
   ]
  }
 ],
 "metadata": {
  "kernelspec": {
   "display_name": "funasr2024",
   "language": "python",
   "name": "python3"
  },
  "language_info": {
   "codemirror_mode": {
    "name": "ipython",
    "version": 3
   },
   "file_extension": ".py",
   "mimetype": "text/x-python",
   "name": "python",
   "nbconvert_exporter": "python",
   "pygments_lexer": "ipython3",
   "version": "3.9.19"
  }
 },
 "nbformat": 4,
 "nbformat_minor": 2
}
