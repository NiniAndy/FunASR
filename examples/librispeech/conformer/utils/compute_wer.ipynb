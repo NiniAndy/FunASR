{
 "cells": [
  {
   "cell_type": "code",
   "id": "initial_id",
   "metadata": {
    "collapsed": true,
    "ExecuteTime": {
     "end_time": "2024-10-24T08:22:30.194846Z",
     "start_time": "2024-10-24T08:22:30.028078Z"
    }
   },
   "source": [
    "from jiwer import wer\n",
    "\n",
    "def load_file(filepath):\n",
    "    data = {}\n",
    "    with open(filepath, 'r') as f:\n",
    "        for line in f:\n",
    "            parts = line.strip().split(\" \", 1)  # 将ID和text分开\n",
    "            if len(parts) == 2:\n",
    "                data[parts[0]] = parts[1]\n",
    "    return data\n",
    "\n",
    "# 读取proc和label文件\n",
    "proc_file = \"/ssd/zhuang/code/FunASR/examples/librispeech/conformer/exp/baseline_conformer_12e_6d_2048_256_en_bpe_exp1/inference-model.pt.avg10/test_clean_ctc-ar-rescoring/1best_recog/text\"  # 替换为实际的文件路径\n",
    "label_file = \"/ssd/zhuang/code/FunASR/examples/librispeech/DATA/data/test_clean/text\"\n",
    "\n",
    "proc_data = load_file(proc_file)\n",
    "label_data = load_file(label_file)\n",
    "\n",
    "# 计算总的WER\n",
    "total_wer = 0\n",
    "for key in proc_data:\n",
    "    if key in label_data:\n",
    "        reference = label_data[key]\n",
    "        hypothesis = proc_data[key]\n",
    "        # 计算每一句的WER\n",
    "        sentence_wer = wer(reference, hypothesis)\n",
    "        total_wer += sentence_wer\n",
    "\n",
    "# 输出最终的WER\n",
    "average_wer = total_wer / len(proc_data)\n",
    "print(f\"平均WER: {average_wer:.4f}\")"
   ],
   "outputs": [
    {
     "name": "stdout",
     "output_type": "stream",
     "text": [
      "平均WER: 0.0436\n"
     ]
    }
   ],
   "execution_count": 1
  },
  {
   "metadata": {},
   "cell_type": "code",
   "outputs": [],
   "execution_count": null,
   "source": "",
   "id": "ef76d19b3bad6e8d"
  }
 ],
 "metadata": {
  "kernelspec": {
   "display_name": "Python 3",
   "language": "python",
   "name": "python3"
  },
  "language_info": {
   "codemirror_mode": {
    "name": "ipython",
    "version": 2
   },
   "file_extension": ".py",
   "mimetype": "text/x-python",
   "name": "python",
   "nbconvert_exporter": "python",
   "pygments_lexer": "ipython2",
   "version": "2.7.6"
  }
 },
 "nbformat": 4,
 "nbformat_minor": 5
}
